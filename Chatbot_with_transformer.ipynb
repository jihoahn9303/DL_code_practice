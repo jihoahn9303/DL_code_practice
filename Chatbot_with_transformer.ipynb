{
  "nbformat": 4,
  "nbformat_minor": 0,
  "metadata": {
    "colab": {
      "provenance": [],
      "toc_visible": true,
      "machine_shape": "hm",
      "gpuType": "A100"
    },
    "kernelspec": {
      "name": "python3",
      "display_name": "Python 3"
    },
    "language_info": {
      "name": "python"
    },
    "accelerator": "GPU"
  },
  "cells": [
    {
      "cell_type": "markdown",
      "source": [
        "## 필요 라이브러리 설치\n",
        "- einops: 텐서 차원 조작을 도와주는 라이브러리\n",
        "\n",
        "\n"
      ],
      "metadata": {
        "id": "_bZrjU-Rr_lT"
      }
    },
    {
      "cell_type": "code",
      "execution_count": 1,
      "metadata": {
        "id": "bo7KeOM1rxsG",
        "colab": {
          "base_uri": "https://localhost:8080/"
        },
        "outputId": "96ec02d8-0674-4b50-8299-66adabb9ead1"
      },
      "outputs": [
        {
          "output_type": "stream",
          "name": "stdout",
          "text": [
            "Collecting einops\n",
            "  Downloading einops-0.7.0-py3-none-any.whl (44 kB)\n",
            "\u001b[?25l     \u001b[90m━━━━━━━━━━━━━━━━━━━━━━━━━━━━━━━━━━━━━━━━\u001b[0m \u001b[32m0.0/44.6 kB\u001b[0m \u001b[31m?\u001b[0m eta \u001b[36m-:--:--\u001b[0m\r\u001b[2K     \u001b[90m━━━━━━━━━━━━━━━━━━━━━━━━━━━━━━━━━━━━━━━━\u001b[0m \u001b[32m44.6/44.6 kB\u001b[0m \u001b[31m1.8 MB/s\u001b[0m eta \u001b[36m0:00:00\u001b[0m\n",
            "\u001b[?25hInstalling collected packages: einops\n",
            "Successfully installed einops-0.7.0\n"
          ]
        }
      ],
      "source": [
        "!pip install einops"
      ]
    },
    {
      "cell_type": "markdown",
      "source": [
        "# 필요 라이브러리 import\n"
      ],
      "metadata": {
        "id": "yH_lMmlZJdzj"
      }
    },
    {
      "cell_type": "code",
      "source": [
        "import time\n",
        "import urllib.request\n",
        "import re\n",
        "import warnings\n",
        "warnings.filterwarnings('ignore')\n",
        "\n",
        "import matplotlib.pyplot as plt\n",
        "import pandas as pd\n",
        "import numpy as np\n",
        "import tensorflow_datasets as tfds\n",
        "import tensorflow as tf\n",
        "from tensorflow.keras.preprocessing.sequence import pad_sequences\n",
        "from tensorflow.python.framework.ops import EagerTensor\n",
        "from tensorflow.keras.layers import (\n",
        "    Layer,\n",
        "    LayerNormalization,\n",
        "    Dropout,\n",
        "    Embedding,\n",
        "    Softmax\n",
        ")\n",
        "from tensorflow.keras.models import Model, Sequential\n",
        "from tensorflow.keras.losses import SparseCategoricalCrossentropy, Loss\n",
        "from tensorflow.keras.metrics import SparseCategoricalAccuracy, Metric\n",
        "from tensorflow.keras.optimizers.schedules import LearningRateSchedule\n",
        "from tensorflow.keras.optimizers import Adam\n",
        "from tensorflow.math import rsqrt, minimum, argmax\n",
        "\n",
        "from einops import rearrange, pack, unpack, einsum\n",
        "from einops.layers.tensorflow import EinMix"
      ],
      "metadata": {
        "id": "pX4ITz14J10k"
      },
      "execution_count": 2,
      "outputs": []
    },
    {
      "cell_type": "markdown",
      "source": [
        "# 챗봇 데이터 로드\n",
        "- 출처: https://github.com/songys/Chatbot_data\n",
        "  - 챗봇 트레이닝용 문답 페어 11,876개\n",
        "  - 일상다반사 0, 이별(부정) 1, 사랑(긍정) 2로 레이블링"
      ],
      "metadata": {
        "id": "F4t3RI2DJKcy"
      }
    },
    {
      "cell_type": "code",
      "source": [
        "urllib.request.urlretrieve(\"https://raw.githubusercontent.com/songys/Chatbot_data/master/ChatbotData.csv\", filename=\"ChatBotData.csv\")\n",
        "\n",
        "train_data = pd.read_csv('ChatBotData.csv')\n",
        "train_data.head()"
      ],
      "metadata": {
        "colab": {
          "base_uri": "https://localhost:8080/",
          "height": 206
        },
        "id": "xeEHpBSTJGIe",
        "outputId": "d9739dfa-a5ab-468b-d689-20178bec8795"
      },
      "execution_count": 3,
      "outputs": [
        {
          "output_type": "execute_result",
          "data": {
            "text/plain": [
              "                 Q            A  label\n",
              "0           12시 땡!   하루가 또 가네요.      0\n",
              "1      1지망 학교 떨어졌어    위로해 드립니다.      0\n",
              "2     3박4일 놀러가고 싶다  여행은 언제나 좋죠.      0\n",
              "3  3박4일 정도 놀러가고 싶다  여행은 언제나 좋죠.      0\n",
              "4          PPL 심하네   눈살이 찌푸려지죠.      0"
            ],
            "text/html": [
              "\n",
              "  <div id=\"df-04c491c9-300d-4a29-a749-e6a690607790\" class=\"colab-df-container\">\n",
              "    <div>\n",
              "<style scoped>\n",
              "    .dataframe tbody tr th:only-of-type {\n",
              "        vertical-align: middle;\n",
              "    }\n",
              "\n",
              "    .dataframe tbody tr th {\n",
              "        vertical-align: top;\n",
              "    }\n",
              "\n",
              "    .dataframe thead th {\n",
              "        text-align: right;\n",
              "    }\n",
              "</style>\n",
              "<table border=\"1\" class=\"dataframe\">\n",
              "  <thead>\n",
              "    <tr style=\"text-align: right;\">\n",
              "      <th></th>\n",
              "      <th>Q</th>\n",
              "      <th>A</th>\n",
              "      <th>label</th>\n",
              "    </tr>\n",
              "  </thead>\n",
              "  <tbody>\n",
              "    <tr>\n",
              "      <th>0</th>\n",
              "      <td>12시 땡!</td>\n",
              "      <td>하루가 또 가네요.</td>\n",
              "      <td>0</td>\n",
              "    </tr>\n",
              "    <tr>\n",
              "      <th>1</th>\n",
              "      <td>1지망 학교 떨어졌어</td>\n",
              "      <td>위로해 드립니다.</td>\n",
              "      <td>0</td>\n",
              "    </tr>\n",
              "    <tr>\n",
              "      <th>2</th>\n",
              "      <td>3박4일 놀러가고 싶다</td>\n",
              "      <td>여행은 언제나 좋죠.</td>\n",
              "      <td>0</td>\n",
              "    </tr>\n",
              "    <tr>\n",
              "      <th>3</th>\n",
              "      <td>3박4일 정도 놀러가고 싶다</td>\n",
              "      <td>여행은 언제나 좋죠.</td>\n",
              "      <td>0</td>\n",
              "    </tr>\n",
              "    <tr>\n",
              "      <th>4</th>\n",
              "      <td>PPL 심하네</td>\n",
              "      <td>눈살이 찌푸려지죠.</td>\n",
              "      <td>0</td>\n",
              "    </tr>\n",
              "  </tbody>\n",
              "</table>\n",
              "</div>\n",
              "    <div class=\"colab-df-buttons\">\n",
              "\n",
              "  <div class=\"colab-df-container\">\n",
              "    <button class=\"colab-df-convert\" onclick=\"convertToInteractive('df-04c491c9-300d-4a29-a749-e6a690607790')\"\n",
              "            title=\"Convert this dataframe to an interactive table.\"\n",
              "            style=\"display:none;\">\n",
              "\n",
              "  <svg xmlns=\"http://www.w3.org/2000/svg\" height=\"24px\" viewBox=\"0 -960 960 960\">\n",
              "    <path d=\"M120-120v-720h720v720H120Zm60-500h600v-160H180v160Zm220 220h160v-160H400v160Zm0 220h160v-160H400v160ZM180-400h160v-160H180v160Zm440 0h160v-160H620v160ZM180-180h160v-160H180v160Zm440 0h160v-160H620v160Z\"/>\n",
              "  </svg>\n",
              "    </button>\n",
              "\n",
              "  <style>\n",
              "    .colab-df-container {\n",
              "      display:flex;\n",
              "      gap: 12px;\n",
              "    }\n",
              "\n",
              "    .colab-df-convert {\n",
              "      background-color: #E8F0FE;\n",
              "      border: none;\n",
              "      border-radius: 50%;\n",
              "      cursor: pointer;\n",
              "      display: none;\n",
              "      fill: #1967D2;\n",
              "      height: 32px;\n",
              "      padding: 0 0 0 0;\n",
              "      width: 32px;\n",
              "    }\n",
              "\n",
              "    .colab-df-convert:hover {\n",
              "      background-color: #E2EBFA;\n",
              "      box-shadow: 0px 1px 2px rgba(60, 64, 67, 0.3), 0px 1px 3px 1px rgba(60, 64, 67, 0.15);\n",
              "      fill: #174EA6;\n",
              "    }\n",
              "\n",
              "    .colab-df-buttons div {\n",
              "      margin-bottom: 4px;\n",
              "    }\n",
              "\n",
              "    [theme=dark] .colab-df-convert {\n",
              "      background-color: #3B4455;\n",
              "      fill: #D2E3FC;\n",
              "    }\n",
              "\n",
              "    [theme=dark] .colab-df-convert:hover {\n",
              "      background-color: #434B5C;\n",
              "      box-shadow: 0px 1px 3px 1px rgba(0, 0, 0, 0.15);\n",
              "      filter: drop-shadow(0px 1px 2px rgba(0, 0, 0, 0.3));\n",
              "      fill: #FFFFFF;\n",
              "    }\n",
              "  </style>\n",
              "\n",
              "    <script>\n",
              "      const buttonEl =\n",
              "        document.querySelector('#df-04c491c9-300d-4a29-a749-e6a690607790 button.colab-df-convert');\n",
              "      buttonEl.style.display =\n",
              "        google.colab.kernel.accessAllowed ? 'block' : 'none';\n",
              "\n",
              "      async function convertToInteractive(key) {\n",
              "        const element = document.querySelector('#df-04c491c9-300d-4a29-a749-e6a690607790');\n",
              "        const dataTable =\n",
              "          await google.colab.kernel.invokeFunction('convertToInteractive',\n",
              "                                                    [key], {});\n",
              "        if (!dataTable) return;\n",
              "\n",
              "        const docLinkHtml = 'Like what you see? Visit the ' +\n",
              "          '<a target=\"_blank\" href=https://colab.research.google.com/notebooks/data_table.ipynb>data table notebook</a>'\n",
              "          + ' to learn more about interactive tables.';\n",
              "        element.innerHTML = '';\n",
              "        dataTable['output_type'] = 'display_data';\n",
              "        await google.colab.output.renderOutput(dataTable, element);\n",
              "        const docLink = document.createElement('div');\n",
              "        docLink.innerHTML = docLinkHtml;\n",
              "        element.appendChild(docLink);\n",
              "      }\n",
              "    </script>\n",
              "  </div>\n",
              "\n",
              "\n",
              "<div id=\"df-c18fa36e-d921-4e28-af00-88f1bd1d4210\">\n",
              "  <button class=\"colab-df-quickchart\" onclick=\"quickchart('df-c18fa36e-d921-4e28-af00-88f1bd1d4210')\"\n",
              "            title=\"Suggest charts.\"\n",
              "            style=\"display:none;\">\n",
              "\n",
              "<svg xmlns=\"http://www.w3.org/2000/svg\" height=\"24px\"viewBox=\"0 0 24 24\"\n",
              "     width=\"24px\">\n",
              "    <g>\n",
              "        <path d=\"M19 3H5c-1.1 0-2 .9-2 2v14c0 1.1.9 2 2 2h14c1.1 0 2-.9 2-2V5c0-1.1-.9-2-2-2zM9 17H7v-7h2v7zm4 0h-2V7h2v10zm4 0h-2v-4h2v4z\"/>\n",
              "    </g>\n",
              "</svg>\n",
              "  </button>\n",
              "\n",
              "<style>\n",
              "  .colab-df-quickchart {\n",
              "      --bg-color: #E8F0FE;\n",
              "      --fill-color: #1967D2;\n",
              "      --hover-bg-color: #E2EBFA;\n",
              "      --hover-fill-color: #174EA6;\n",
              "      --disabled-fill-color: #AAA;\n",
              "      --disabled-bg-color: #DDD;\n",
              "  }\n",
              "\n",
              "  [theme=dark] .colab-df-quickchart {\n",
              "      --bg-color: #3B4455;\n",
              "      --fill-color: #D2E3FC;\n",
              "      --hover-bg-color: #434B5C;\n",
              "      --hover-fill-color: #FFFFFF;\n",
              "      --disabled-bg-color: #3B4455;\n",
              "      --disabled-fill-color: #666;\n",
              "  }\n",
              "\n",
              "  .colab-df-quickchart {\n",
              "    background-color: var(--bg-color);\n",
              "    border: none;\n",
              "    border-radius: 50%;\n",
              "    cursor: pointer;\n",
              "    display: none;\n",
              "    fill: var(--fill-color);\n",
              "    height: 32px;\n",
              "    padding: 0;\n",
              "    width: 32px;\n",
              "  }\n",
              "\n",
              "  .colab-df-quickchart:hover {\n",
              "    background-color: var(--hover-bg-color);\n",
              "    box-shadow: 0 1px 2px rgba(60, 64, 67, 0.3), 0 1px 3px 1px rgba(60, 64, 67, 0.15);\n",
              "    fill: var(--button-hover-fill-color);\n",
              "  }\n",
              "\n",
              "  .colab-df-quickchart-complete:disabled,\n",
              "  .colab-df-quickchart-complete:disabled:hover {\n",
              "    background-color: var(--disabled-bg-color);\n",
              "    fill: var(--disabled-fill-color);\n",
              "    box-shadow: none;\n",
              "  }\n",
              "\n",
              "  .colab-df-spinner {\n",
              "    border: 2px solid var(--fill-color);\n",
              "    border-color: transparent;\n",
              "    border-bottom-color: var(--fill-color);\n",
              "    animation:\n",
              "      spin 1s steps(1) infinite;\n",
              "  }\n",
              "\n",
              "  @keyframes spin {\n",
              "    0% {\n",
              "      border-color: transparent;\n",
              "      border-bottom-color: var(--fill-color);\n",
              "      border-left-color: var(--fill-color);\n",
              "    }\n",
              "    20% {\n",
              "      border-color: transparent;\n",
              "      border-left-color: var(--fill-color);\n",
              "      border-top-color: var(--fill-color);\n",
              "    }\n",
              "    30% {\n",
              "      border-color: transparent;\n",
              "      border-left-color: var(--fill-color);\n",
              "      border-top-color: var(--fill-color);\n",
              "      border-right-color: var(--fill-color);\n",
              "    }\n",
              "    40% {\n",
              "      border-color: transparent;\n",
              "      border-right-color: var(--fill-color);\n",
              "      border-top-color: var(--fill-color);\n",
              "    }\n",
              "    60% {\n",
              "      border-color: transparent;\n",
              "      border-right-color: var(--fill-color);\n",
              "    }\n",
              "    80% {\n",
              "      border-color: transparent;\n",
              "      border-right-color: var(--fill-color);\n",
              "      border-bottom-color: var(--fill-color);\n",
              "    }\n",
              "    90% {\n",
              "      border-color: transparent;\n",
              "      border-bottom-color: var(--fill-color);\n",
              "    }\n",
              "  }\n",
              "</style>\n",
              "\n",
              "  <script>\n",
              "    async function quickchart(key) {\n",
              "      const quickchartButtonEl =\n",
              "        document.querySelector('#' + key + ' button');\n",
              "      quickchartButtonEl.disabled = true;  // To prevent multiple clicks.\n",
              "      quickchartButtonEl.classList.add('colab-df-spinner');\n",
              "      try {\n",
              "        const charts = await google.colab.kernel.invokeFunction(\n",
              "            'suggestCharts', [key], {});\n",
              "      } catch (error) {\n",
              "        console.error('Error during call to suggestCharts:', error);\n",
              "      }\n",
              "      quickchartButtonEl.classList.remove('colab-df-spinner');\n",
              "      quickchartButtonEl.classList.add('colab-df-quickchart-complete');\n",
              "    }\n",
              "    (() => {\n",
              "      let quickchartButtonEl =\n",
              "        document.querySelector('#df-c18fa36e-d921-4e28-af00-88f1bd1d4210 button');\n",
              "      quickchartButtonEl.style.display =\n",
              "        google.colab.kernel.accessAllowed ? 'block' : 'none';\n",
              "    })();\n",
              "  </script>\n",
              "</div>\n",
              "    </div>\n",
              "  </div>\n"
            ]
          },
          "metadata": {},
          "execution_count": 3
        }
      ]
    },
    {
      "cell_type": "code",
      "source": [
        "print(train_data.isnull().sum())"
      ],
      "metadata": {
        "colab": {
          "base_uri": "https://localhost:8080/"
        },
        "id": "DBcQLhpHKM8H",
        "outputId": "c00eb852-2d19-435c-80e3-e625965f5ba3"
      },
      "execution_count": 4,
      "outputs": [
        {
          "output_type": "stream",
          "name": "stdout",
          "text": [
            "Q        0\n",
            "A        0\n",
            "label    0\n",
            "dtype: int64\n"
          ]
        }
      ]
    },
    {
      "cell_type": "code",
      "source": [
        "train_data['label'].value_counts()"
      ],
      "metadata": {
        "colab": {
          "base_uri": "https://localhost:8080/"
        },
        "id": "kCIg-xanKrzO",
        "outputId": "4f2bb1e4-1f71-4ab1-e6bc-1cbd5a262556"
      },
      "execution_count": 5,
      "outputs": [
        {
          "output_type": "execute_result",
          "data": {
            "text/plain": [
              "0    5290\n",
              "1    3570\n",
              "2    2963\n",
              "Name: label, dtype: int64"
            ]
          },
          "metadata": {},
          "execution_count": 5
        }
      ]
    },
    {
      "cell_type": "markdown",
      "source": [
        "# 전처리 함수 구현"
      ],
      "metadata": {
        "id": "3A9RU7iLJ7xc"
      }
    },
    {
      "cell_type": "code",
      "source": [
        "def preprocess_sentence(sentence):\n",
        "    # 구두점에 대해서 띄어쓰기\n",
        "    # ex) 12시 땡! -> 12시 땡 !\n",
        "    sentence = re.sub(r\"([?.!,])\", r\" \\1 \", sentence)\n",
        "    sentence = sentence.strip()\n",
        "\n",
        "    return sentence"
      ],
      "metadata": {
        "id": "rxg6jmpvLVTn"
      },
      "execution_count": 6,
      "outputs": []
    },
    {
      "cell_type": "code",
      "source": [
        "# 최대 길이를 40으로 정의\n",
        "MAX_LENGTH = 40\n",
        "\n",
        "# 토큰화 / 정수 인코딩 / 시작 토큰과 종료 토큰 추가 / 패딩\n",
        "def tokenize_and_filter(inputs, outputs):\n",
        "  tokenized_inputs, tokenized_outputs = [], []\n",
        "\n",
        "  for (sentence1, sentence2) in zip(inputs, outputs):\n",
        "    # encode(토큰화 + 정수 인코딩), 시작 토큰과 종료 토큰 추가\n",
        "    sentence1 = START_TOKEN + tokenizer.encode(sentence1) + END_TOKEN\n",
        "    sentence2 = START_TOKEN + tokenizer.encode(sentence2) + END_TOKEN\n",
        "\n",
        "    tokenized_inputs.append(sentence1)\n",
        "    tokenized_outputs.append(sentence2)\n",
        "\n",
        "  # 패딩\n",
        "  tokenized_inputs = pad_sequences(\n",
        "      tokenized_inputs,\n",
        "      maxlen=MAX_LENGTH,\n",
        "      padding='post'\n",
        "  )\n",
        "  tokenized_outputs = pad_sequences(\n",
        "      tokenized_outputs,\n",
        "      maxlen=MAX_LENGTH,\n",
        "      padding='post'\n",
        "  )\n",
        "\n",
        "  return tokenized_inputs, tokenized_outputs"
      ],
      "metadata": {
        "id": "yzVI4Y18KL0n"
      },
      "execution_count": 7,
      "outputs": []
    },
    {
      "cell_type": "markdown",
      "source": [
        "# 전처리 수행\n"
      ],
      "metadata": {
        "id": "HJAJeYRHLdB_"
      }
    },
    {
      "cell_type": "markdown",
      "source": [
        "## 질의응답 문장 전처리(1)\n",
        "- 구두점 제거"
      ],
      "metadata": {
        "id": "R6PH7rtTMHBv"
      }
    },
    {
      "cell_type": "code",
      "source": [
        "questions = [preprocess_sentence(sentence) for sentence in train_data['Q']]\n",
        "answers = [preprocess_sentence(sentence) for sentence in train_data['A']]"
      ],
      "metadata": {
        "id": "7pJNil49LvZb"
      },
      "execution_count": 8,
      "outputs": []
    },
    {
      "cell_type": "code",
      "source": [
        "questions[:5]"
      ],
      "metadata": {
        "colab": {
          "base_uri": "https://localhost:8080/"
        },
        "id": "BVxBYFIhMcl3",
        "outputId": "acb05c3b-d80e-48b3-c4f8-923d68de1a6e"
      },
      "execution_count": 9,
      "outputs": [
        {
          "output_type": "execute_result",
          "data": {
            "text/plain": [
              "['12시 땡 !', '1지망 학교 떨어졌어', '3박4일 놀러가고 싶다', '3박4일 정도 놀러가고 싶다', 'PPL 심하네']"
            ]
          },
          "metadata": {},
          "execution_count": 9
        }
      ]
    },
    {
      "cell_type": "code",
      "source": [
        "answers[:5]"
      ],
      "metadata": {
        "colab": {
          "base_uri": "https://localhost:8080/"
        },
        "id": "SBJTXfNSMeLm",
        "outputId": "3fb7329d-6dc6-4147-88ae-ed7275a340cd"
      },
      "execution_count": 10,
      "outputs": [
        {
          "output_type": "execute_result",
          "data": {
            "text/plain": [
              "['하루가 또 가네요 .', '위로해 드립니다 .', '여행은 언제나 좋죠 .', '여행은 언제나 좋죠 .', '눈살이 찌푸려지죠 .']"
            ]
          },
          "metadata": {},
          "execution_count": 10
        }
      ]
    },
    {
      "cell_type": "markdown",
      "source": [
        "## 단어집합 생성"
      ],
      "metadata": {
        "id": "kc95VhATMmYC"
      }
    },
    {
      "cell_type": "code",
      "source": [
        "# SubwordTextEncoder를 사용하여 질문과 답변을 모두 포함한 단어 집합(Vocabulary) 생성\n",
        "tokenizer = tfds.deprecated.text.SubwordTextEncoder.build_from_corpus(\n",
        "    questions + answers, target_vocab_size=2**13)\n",
        "\n",
        "# 시작 토큰과 종료 토큰에 대한 정수 부여.\n",
        "START_TOKEN, END_TOKEN = [tokenizer.vocab_size], [tokenizer.vocab_size + 1]\n",
        "\n",
        "# 시작 토큰과 종료 토큰을 고려하여 단어 집합의 크기를 2만큼 증가\n",
        "VOCAB_SIZE = tokenizer.vocab_size + 2"
      ],
      "metadata": {
        "id": "k78hnNLsMfae"
      },
      "execution_count": 11,
      "outputs": []
    },
    {
      "cell_type": "code",
      "source": [
        "print('시작 토큰 번호 :',START_TOKEN)\n",
        "print('종료 토큰 번호 :',END_TOKEN)\n",
        "print('단어 집합의 크기 :',VOCAB_SIZE)"
      ],
      "metadata": {
        "colab": {
          "base_uri": "https://localhost:8080/"
        },
        "id": "9mF8mLa0M7vA",
        "outputId": "afe675d6-3bcb-42a3-eca8-bffd5c48cad2"
      },
      "execution_count": 12,
      "outputs": [
        {
          "output_type": "stream",
          "name": "stdout",
          "text": [
            "시작 토큰 번호 : [8178]\n",
            "종료 토큰 번호 : [8179]\n",
            "단어 집합의 크기 : 8180\n"
          ]
        }
      ]
    },
    {
      "cell_type": "code",
      "source": [
        "print('Tokenized sample question: {}'.format(tokenizer.encode(questions[20])))"
      ],
      "metadata": {
        "colab": {
          "base_uri": "https://localhost:8080/"
        },
        "id": "E6So-nvvNHpX",
        "outputId": "8963c5eb-28c6-41ac-de3f-c625af156a9a"
      },
      "execution_count": 13,
      "outputs": [
        {
          "output_type": "stream",
          "name": "stdout",
          "text": [
            "Tokenized sample question: [5766, 611, 3509, 141, 685, 3747, 849]\n"
          ]
        }
      ]
    },
    {
      "cell_type": "code",
      "source": [
        "# 임의의 입력 문장을 sample_string에 저장\n",
        "sample_string = questions[10]\n",
        "\n",
        "# encode() : 텍스트 시퀀스 --> 정수 시퀀스\n",
        "tokenized_string = tokenizer.encode(sample_string)\n",
        "print ('정수 인코딩 후의 문장 {}'.format(tokenized_string))\n",
        "\n",
        "# decode() : 정수 시퀀스 --> 텍스트 시퀀스\n",
        "original_string = tokenizer.decode(tokenized_string)\n",
        "print ('기존 문장: {}'.format(original_string))"
      ],
      "metadata": {
        "colab": {
          "base_uri": "https://localhost:8080/"
        },
        "id": "mh6421SYNQ_X",
        "outputId": "7750baf1-3931-454c-e39a-cbae58f69a45"
      },
      "execution_count": 14,
      "outputs": [
        {
          "output_type": "stream",
          "name": "stdout",
          "text": [
            "정수 인코딩 후의 문장 [5779, 484, 194, 2984, 45, 3818]\n",
            "기존 문장: SNS보면 나만 빼고 다 행복해보여\n"
          ]
        }
      ]
    },
    {
      "cell_type": "code",
      "source": [
        "# 각 정수는 각 단어와 어떻게 mapping되는지 병렬로 출력\n",
        "# SubwordTextEncoder는 의미있는 단위의 서브워드로 토크나이징한다.\n",
        "# 띄어쓰기 단위 X,  형태소 분석 단위 X\n",
        "for ts in tokenized_string:\n",
        "  print ('{} ----> {}'.format(ts, tokenizer.decode([ts])))"
      ],
      "metadata": {
        "colab": {
          "base_uri": "https://localhost:8080/"
        },
        "id": "gXhfMf88NWhg",
        "outputId": "b9903b9d-753c-4111-f9b4-254b21cbca98"
      },
      "execution_count": 15,
      "outputs": [
        {
          "output_type": "stream",
          "name": "stdout",
          "text": [
            "5779 ----> SNS\n",
            "484 ----> 보면 \n",
            "194 ----> 나만 \n",
            "2984 ----> 빼고 \n",
            "45 ----> 다 \n",
            "3818 ----> 행복해보여\n"
          ]
        }
      ]
    },
    {
      "cell_type": "markdown",
      "source": [
        "## 질의응답 문장 전처리(2)\n",
        "- 토큰화\n",
        "- 정수 인코딩\n",
        "- 문장 시작 및 종료 토큰 추가\n",
        "- 패딩"
      ],
      "metadata": {
        "id": "-EWOAAQONoZV"
      }
    },
    {
      "cell_type": "code",
      "source": [
        "questions, answers = tokenize_and_filter(questions, answers)"
      ],
      "metadata": {
        "id": "v3O87uysNbD3"
      },
      "execution_count": 16,
      "outputs": []
    },
    {
      "cell_type": "code",
      "source": [
        "print('질문 데이터의 크기(shape) :', questions.shape)\n",
        "print('답변 데이터의 크기(shape) :', answers.shape)"
      ],
      "metadata": {
        "colab": {
          "base_uri": "https://localhost:8080/"
        },
        "id": "dV5fFIraORZf",
        "outputId": "da7eccf6-a037-4219-d379-367b91d7b3f5"
      },
      "execution_count": 17,
      "outputs": [
        {
          "output_type": "stream",
          "name": "stdout",
          "text": [
            "질문 데이터의 크기(shape) : (11823, 40)\n",
            "답변 데이터의 크기(shape) : (11823, 40)\n"
          ]
        }
      ]
    },
    {
      "cell_type": "code",
      "source": [
        "# 7번째 샘플을 임의로 출력\n",
        "print(questions[6])\n",
        "print(answers[6])"
      ],
      "metadata": {
        "colab": {
          "base_uri": "https://localhost:8080/"
        },
        "id": "1EryzrvROTZf",
        "outputId": "dbfd122b-8c89-46ec-ff8a-9a151589d503"
      },
      "execution_count": 18,
      "outputs": [
        {
          "output_type": "stream",
          "name": "stdout",
          "text": [
            "[8178 8005 7990 2192  199 8179    0    0    0    0    0    0    0    0\n",
            "    0    0    0    0    0    0    0    0    0    0    0    0    0    0\n",
            "    0    0    0    0    0    0    0    0    0    0    0    0]\n",
            "[8178   69 2064  456    5  137 2188   17    1 8179    0    0    0    0\n",
            "    0    0    0    0    0    0    0    0    0    0    0    0    0    0\n",
            "    0    0    0    0    0    0    0    0    0    0    0    0]\n"
          ]
        }
      ]
    },
    {
      "cell_type": "code",
      "source": [
        "print('단어 집합의 크기(Vocab size): {}'.format(VOCAB_SIZE))\n",
        "print('전체 샘플의 수(Number of samples): {}'.format(len(questions)))"
      ],
      "metadata": {
        "colab": {
          "base_uri": "https://localhost:8080/"
        },
        "id": "K6fVc9zEOWxH",
        "outputId": "d2d96088-b97d-4162-efe9-36dc892c9229"
      },
      "execution_count": 19,
      "outputs": [
        {
          "output_type": "stream",
          "name": "stdout",
          "text": [
            "단어 집합의 크기(Vocab size): 8180\n",
            "전체 샘플의 수(Number of samples): 11823\n"
          ]
        }
      ]
    },
    {
      "cell_type": "markdown",
      "source": [
        "## 데이터셋 생성\n",
        "- 올바른 번역 학습을 위하여 Teacher forcing 방법을 사용\n",
        "- 따라서, 라벨을 따로 분리하여 저장"
      ],
      "metadata": {
        "id": "aa4DIE1YOcCs"
      }
    },
    {
      "cell_type": "code",
      "source": [
        "# Tensorflow dataset을 이용하여 셔플(shuffle)을 수행하되, 배치 크기로 데이터를 묶는다.\n",
        "# 또한, 이 과정에서 Teacher forcing을 사용하기 위해서 디코더의 입력과 실제값 시퀀스를 구성한다.\n",
        "BATCH_SIZE = 64\n",
        "BUFFER_SIZE = 20000\n",
        "\n",
        "# 디코더의 실제값 시퀀스에서는 시작 토큰을 제거해야 한다.\n",
        "dataset = tf.data.Dataset.from_tensor_slices((\n",
        "    {\n",
        "        'inputs': questions[:, :-1],\n",
        "        'dec_inputs': answers[:, :-1], # 디코더의 입력. 마지막 패딩 토큰이 제거된다.,\n",
        "        'outputs': answers[:, 1:]  # 맨 처음 토큰이 제거된다. 다시 말해 시작 토큰이 제거된다.\n",
        "    }\n",
        "))\n",
        "\n",
        "dataset = dataset.cache()    # 같은 데이터를 여러번 가져올 경우, 시간 감축을 위하여 캐싱 사용\n",
        "dataset = dataset.shuffle(BUFFER_SIZE)   # 데이터 셔플링\n",
        "dataset = dataset.batch(BATCH_SIZE)      # 배치 사이즈만큼, 데이터 적재\n",
        "dataset = dataset.prefetch(tf.data.experimental.AUTOTUNE)   # 모델 학습 시, 백그라운드 스레드를 이용하여 다음 step에 사용할 데이터 미리 적재"
      ],
      "metadata": {
        "id": "-ECvjYYwOY7f"
      },
      "execution_count": 20,
      "outputs": []
    },
    {
      "cell_type": "code",
      "source": [
        "for data in dataset:\n",
        "    print(data)\n",
        "    break"
      ],
      "metadata": {
        "colab": {
          "base_uri": "https://localhost:8080/"
        },
        "id": "TtsZxtK-y8Qd",
        "outputId": "bd7d2ffb-a718-4fb7-b931-6b722a4a6542"
      },
      "execution_count": 21,
      "outputs": [
        {
          "output_type": "stream",
          "name": "stdout",
          "text": [
            "{'inputs': <tf.Tensor: shape=(64, 39), dtype=int32, numpy=\n",
            "array([[8178,   28,   76, ...,    0,    0,    0],\n",
            "       [8178,  715,  224, ...,    0,    0,    0],\n",
            "       [8178, 1095,   80, ...,    0,    0,    0],\n",
            "       ...,\n",
            "       [8178, 3433,  207, ...,    0,    0,    0],\n",
            "       [8178, 8156, 8102, ...,    0,    0,    0],\n",
            "       [8178, 7002, 3121, ...,    0,    0,    0]], dtype=int32)>, 'dec_inputs': <tf.Tensor: shape=(64, 39), dtype=int32, numpy=\n",
            "array([[8178, 1211,    1, ...,    0,    0,    0],\n",
            "       [8178, 1681, 1475, ...,    0,    0,    0],\n",
            "       [8178, 1255, 2941, ...,    0,    0,    0],\n",
            "       ...,\n",
            "       [8178, 3497,   93, ...,    0,    0,    0],\n",
            "       [8178, 2976, 3298, ...,    0,    0,    0],\n",
            "       [8178, 4161,  360, ...,    0,    0,    0]], dtype=int32)>, 'outputs': <tf.Tensor: shape=(64, 39), dtype=int32, numpy=\n",
            "array([[1211,    1, 8179, ...,    0,    0,    0],\n",
            "       [1681, 1475, 1768, ...,    0,    0,    0],\n",
            "       [1255, 2941,   10, ...,    0,    0,    0],\n",
            "       ...,\n",
            "       [3497,   93, 3785, ...,    0,    0,    0],\n",
            "       [2976, 3298, 7954, ...,    0,    0,    0],\n",
            "       [4161,  360,    1, ...,    0,    0,    0]], dtype=int32)>}\n"
          ]
        }
      ]
    },
    {
      "cell_type": "markdown",
      "source": [
        "# Transformer 구현\n",
        "- Positional Encoding\n",
        "- Multi-Head attention\n",
        "- Encoder layer\n",
        "- Encoder\n",
        "- Decoder layer\n",
        "- Decoder\n",
        "- Transformer"
      ],
      "metadata": {
        "id": "7Mu0DGgfQ7tz"
      }
    },
    {
      "cell_type": "markdown",
      "source": [
        "## Positional Encoding"
      ],
      "metadata": {
        "id": "ayCygAx4RgOJ"
      }
    },
    {
      "cell_type": "code",
      "source": [
        "class PositionalEncoding(Layer):\n",
        "  def __init__(\n",
        "      self,\n",
        "      position: int,\n",
        "      embed_dim: int\n",
        "  ):\n",
        "      super(PositionalEncoding, self).__init__()\n",
        "      self.pos_encoding = self.positional_encoding(position, embed_dim)\n",
        "\n",
        "  def get_angles(\n",
        "      self,\n",
        "      position,\n",
        "      idx,\n",
        "      embed_dim: int\n",
        "    ) -> EagerTensor:\n",
        "      angles = 1 / tf.pow(10000, (2 * (idx // 2)) / tf.cast(embed_dim, tf.float32))\n",
        "      return position * angles   # (position, embed_dim)\n",
        "\n",
        "  def positional_encoding(\n",
        "      self,\n",
        "      position: int,\n",
        "      embed_dim: int\n",
        "    ) -> EagerTensor:\n",
        "      angle_rads = self.get_angles(\n",
        "          position=tf.range(position, dtype=tf.float32)[:, tf.newaxis],\n",
        "          idx=tf.range(embed_dim, dtype=tf.float32)[tf.newaxis, :],\n",
        "          embed_dim=embed_dim\n",
        "      )  # (position=sequence_len, embed_dim)\n",
        "\n",
        "      # 배열의 짝수 인덱스(2i)에는 사인 함수 적용\n",
        "      sines = tf.math.sin(angle_rads[:, 0::2])\n",
        "\n",
        "      # 배열의 홀수 인덱스(2i+1)에는 코사인 함수 적용\n",
        "      cosines = tf.math.cos(angle_rads[:, 1::2])\n",
        "\n",
        "      angle_rads = np.zeros(angle_rads.shape)\n",
        "      angle_rads[:, 0::2] = sines\n",
        "      angle_rads[:, 1::2] = cosines\n",
        "      pos_encoding = tf.constant(angle_rads)   # (sequence_len, embed_dim)\n",
        "      pos_encoding = pos_encoding[tf.newaxis, ...]  # (1, sequence_len, embed_dim)\n",
        "\n",
        "      return tf.cast(pos_encoding, tf.float32)\n",
        "\n",
        "  def call(self, inputs):\n",
        "      return inputs + self.pos_encoding[:, :tf.shape(inputs)[1], :]   # (batch_size, sequence_len, embed_dim)"
      ],
      "metadata": {
        "id": "ofm3U5ZmPzfX"
      },
      "execution_count": 22,
      "outputs": []
    },
    {
      "cell_type": "code",
      "source": [
        "sample_pos_encoding = PositionalEncoding(50, 128)\n",
        "\n",
        "plt.pcolormesh(sample_pos_encoding.pos_encoding.numpy()[0], cmap='RdBu')\n",
        "plt.xlabel('Depth')\n",
        "plt.xlim((0, 128))\n",
        "plt.ylabel('Position')\n",
        "plt.colorbar()\n",
        "plt.show()"
      ],
      "metadata": {
        "colab": {
          "base_uri": "https://localhost:8080/",
          "height": 455
        },
        "id": "pSwy5QD7U-tR",
        "outputId": "9dd4dde4-e8a4-48b7-917d-205d39440423"
      },
      "execution_count": 23,
      "outputs": [
        {
          "output_type": "display_data",
          "data": {
            "text/plain": [
              "<Figure size 640x480 with 2 Axes>"
            ],
            "image/png": "[encoded data removed]"
          },
          "metadata": {}
        }
      ]
    },
    {
      "cell_type": "code",
      "source": [
        "type(sample_pos_encoding.pos_encoding)"
      ],
      "metadata": {
        "colab": {
          "base_uri": "https://localhost:8080/"
        },
        "id": "PQe_vqSPWsB8",
        "outputId": "df792fd8-f3ca-4ece-da40-c3e8f3ced97b"
      },
      "execution_count": 24,
      "outputs": [
        {
          "output_type": "execute_result",
          "data": {
            "text/plain": [
              "tensorflow.python.framework.ops.EagerTensor"
            ]
          },
          "metadata": {},
          "execution_count": 24
        }
      ]
    },
    {
      "cell_type": "markdown",
      "source": [
        "## Multi-head attention"
      ],
      "metadata": {
        "id": "qC9Zy-Q3Vc6i"
      }
    },
    {
      "cell_type": "code",
      "source": [
        "# 패딩 마스크를 구현하는 방법은 입력된 정수 시퀀스에서 패딩 토큰의 인덱스인지, 아닌지를 판별하는 함수를 구현하는 것입니다.\n",
        "# 아래의 함수는 정수 시퀀스에서 0인 경우에는 1로 변환하고, 그렇지 않은 경우에는 0으로 변환하는 함수입니다.\n",
        "def create_padding_mask(tensor):\n",
        "    '''\n",
        "    tensor: (batch_size, sequence_len)\n",
        "    '''\n",
        "    mask = tf.cast(tf.math.equal(tensor, 0), tf.float32)\n",
        "    return mask[:, tf.newaxis, tf.newaxis, :]  # (batch_size, 1, 1, key의 문장 길이)"
      ],
      "metadata": {
        "id": "T0TTCG6fdKyN"
      },
      "execution_count": 25,
      "outputs": []
    },
    {
      "cell_type": "code",
      "source": [
        "class MultiHeadAttentionLayer(Layer):\n",
        "  def __init__(\n",
        "      self,\n",
        "      embed_dim: int = 512,   # 임베딩 차원\n",
        "      head_num: int = 8,      # 헤드 갯수\n",
        "  ):\n",
        "    super(MultiHeadAttentionLayer, self).__init__()\n",
        "    self.head_num = head_num\n",
        "    self.embed_dim = embed_dim\n",
        "\n",
        "    assert self.embed_dim % self.head_num == 0\n",
        "\n",
        "    self.mh_dim = self.embed_dim // self.head_num  # 멀티 헤드 어텐션 내 임베딩 차원\n",
        "\n",
        "    # Dense layer와 기능이 같지만, tensor 입출력 구조를 손쉽게 확인 가능함\n",
        "    self.to_query = EinMix(\n",
        "      pattern='batch sequence dim_in -> batch sequence dim_out',\n",
        "      weight_shape='dim_in dim_out',\n",
        "      bias_shape='dim_out',\n",
        "      dim_in=embed_dim,\n",
        "      dim_out=embed_dim\n",
        "    )\n",
        "\n",
        "    self.to_key = EinMix(\n",
        "      pattern='batch sequence dim_in -> batch sequence dim_out',\n",
        "      weight_shape='dim_in dim_out',\n",
        "      bias_shape='dim_out',\n",
        "      dim_in=embed_dim,\n",
        "      dim_out=embed_dim\n",
        "    )\n",
        "\n",
        "    self.to_value = EinMix(\n",
        "      pattern='batch sequence dim_in -> batch sequence dim_out',\n",
        "      weight_shape='dim_in dim_out',\n",
        "      bias_shape='dim_out',\n",
        "      dim_in=embed_dim,\n",
        "      dim_out=embed_dim\n",
        "    )\n",
        "\n",
        "    # 멀티 헤드 어텐션 출력층에 대응하는 레이어\n",
        "    self.dense = EinMix(\n",
        "        pattern='batch sequence dim_in -> batch sequence dim_out',\n",
        "        weight_shape='dim_in dim_out',\n",
        "        bias_shape='dim_out',\n",
        "        dim_in=embed_dim,\n",
        "        dim_out=embed_dim\n",
        "    )\n",
        "\n",
        "  def call(\n",
        "      self,\n",
        "      query,\n",
        "      key,\n",
        "      value,\n",
        "      mask\n",
        "    ):\n",
        "    '''\n",
        "    query, key, value: (batch_size, sequence_len, embed_dim)\n",
        "    mask: (batch_size, 1, 1, sequence_len)\n",
        "    '''\n",
        "    # 1. query, key, value 텐서 얻기\n",
        "    query = self.to_query(query)\n",
        "    key = self.to_key(key)\n",
        "    value = self.to_value(value)\n",
        "\n",
        "    # 2. query, key, value에 대해 멀티 헤드 텐서로 변경\n",
        "    query, key, value = map(\n",
        "        lambda x: rearrange(tensor=x, pattern='b s (h d) -> b h s d', h=self.head_num),\n",
        "        (query, key, value)\n",
        "    )  # (batch_size, multi-head_num, sequence_len, multi-head_embed_dim)\n",
        "\n",
        "    # 3. dot product (query-key)\n",
        "    energy = einsum(\n",
        "        query,\n",
        "        value,\n",
        "        'b h q d, b h k d -> b h q k'\n",
        "    )  # (batch_size, multi-head_num, sequence_len, sequence_len)\n",
        "\n",
        "    # 4. scaled dot product\n",
        "    scaled_energy = energy * self.mh_dim**-0.5   # (batch_size, multi-head_num, sequence_len, sequence_len)\n",
        "    if mask is not None:  # mask는 패딩 마스크 또는 look-ahead 마스크 둘 중 하나\n",
        "        scaled_energy += (mask * -1e9)\n",
        "\n",
        "    # 5. attention score 계산\n",
        "    attention_score = tf.nn.softmax(scaled_energy, axis=-1)  # (batch size, number of multi-head, sequence_len, sequence_len)\n",
        "\n",
        "    # 6. attention vector 계산\n",
        "    outputs = einsum(\n",
        "        attention_score,\n",
        "        value,\n",
        "        'b h q k, b h k d -> b h q d'\n",
        "    )  # (batch size, number of multi-head, sequence length, multi-head embed_dim)\n",
        "    outputs = rearrange(\n",
        "        outputs,\n",
        "        pattern='b h q d -> b q (h d)'\n",
        "    )  # (batch size, sequence length, embed_dim)\n",
        "\n",
        "    # 7. Dense layer 통과 (for Residual connection)\n",
        "    outputs = self.dense(outputs)\n",
        "\n",
        "\n",
        "    return outputs  # (batch size, sequence length, embed_dim)"
      ],
      "metadata": {
        "id": "HKbiuPMfVB5x"
      },
      "execution_count": 26,
      "outputs": []
    },
    {
      "cell_type": "markdown",
      "source": [
        "## Feed-forward"
      ],
      "metadata": {
        "id": "cWYMfbPLkld1"
      }
    },
    {
      "cell_type": "code",
      "source": [
        "class FeedForwardLayer(Layer):\n",
        "    def __init__(\n",
        "        self,\n",
        "        hidden_dim: int,\n",
        "        embed_dim: int,\n",
        "    ):\n",
        "        super(FeedForwardLayer, self).__init__()\n",
        "        self.hidden_dim = hidden_dim\n",
        "        self.embed_dim = embed_dim\n",
        "\n",
        "        self.dense_1 = EinMix(\n",
        "            pattern=\"batch sequence dim_in -> batch sequence dim_out\",\n",
        "            weight_shape=\"dim_in dim_out\",\n",
        "            bias_shape=\"dim_out\",\n",
        "            dim_in=embed_dim,\n",
        "            dim_out=hidden_dim\n",
        "        )\n",
        "        self.dense_2 = EinMix(\n",
        "            pattern=\"batch sequence dim_out -> batch sequence dim_in\",\n",
        "            weight_shape=\"dim_out dim_in\",\n",
        "            bias_shape=\"dim_in\",\n",
        "            dim_in=embed_dim,\n",
        "            dim_out=hidden_dim\n",
        "        )\n",
        "\n",
        "\n",
        "    def call(\n",
        "        self,\n",
        "        inputs\n",
        "    ):\n",
        "        outputs = self.dense_1(inputs)\n",
        "        outputs = self.dense_2(outputs)\n",
        "\n",
        "        return outputs"
      ],
      "metadata": {
        "id": "UE3hR1gYkjRt"
      },
      "execution_count": 27,
      "outputs": []
    },
    {
      "cell_type": "markdown",
      "source": [
        "## Encoder Layer"
      ],
      "metadata": {
        "id": "DrZzEP8rl469"
      }
    },
    {
      "cell_type": "code",
      "source": [
        "class EncoderLayer(Layer):\n",
        "    def __init__(\n",
        "        self,\n",
        "        embed_dim: int = 512,       # 임베딩 차원\n",
        "        head_num: int = 8,          # 헤드 갯수\n",
        "        hidden_dim: int = 2048,     # 히든 레이어 차원\n",
        "        dropout_ratio: float = 0.3, # 드롭아웃 비율\n",
        "    ):\n",
        "        super(EncoderLayer, self).__init__()\n",
        "\n",
        "        self.ff_layer_norm = LayerNormalization(axis=-1)\n",
        "        self.mh_layer_norm = LayerNormalization(axis=-1)\n",
        "        self.mh_attention = MultiHeadAttentionLayer(\n",
        "            embed_dim=embed_dim,\n",
        "            head_num=head_num\n",
        "        )\n",
        "        self.ff = FeedForwardLayer(\n",
        "            hidden_dim=hidden_dim,\n",
        "            embed_dim=embed_dim\n",
        "        )\n",
        "        self.dropout = Dropout(rate=dropout_ratio)\n",
        "\n",
        "    def call(self, inputs, pad_mask):\n",
        "        '''\n",
        "        inputs: (batch_size, sequence_len, embed_dim)\n",
        "        pad_mask: None or (batch_size, 1, 1, sequence_len)\n",
        "        '''\n",
        "        # multi-head attention\n",
        "        mh_outputs = self.mh_attention(\n",
        "            query=inputs,\n",
        "            key=inputs,\n",
        "            value=inputs,\n",
        "            mask=pad_mask\n",
        "        )\n",
        "        # (batch_size, sequence_len, embed_dim)\n",
        "        outputs = self.mh_layer_norm(self.dropout(mh_outputs) + inputs)\n",
        "\n",
        "        # feed-forward propagation\n",
        "        ff_outputs = self.ff(outputs)\n",
        "        outputs = self.ff_layer_norm(self.dropout(ff_outputs) + outputs)\n",
        "\n",
        "        return outputs    # (batch_size, sequence_len, embed_dim)"
      ],
      "metadata": {
        "id": "71Nbw5K5lp7J"
      },
      "execution_count": 28,
      "outputs": []
    },
    {
      "cell_type": "markdown",
      "source": [
        "## Encoder"
      ],
      "metadata": {
        "id": "DzHN-xM7rzvY"
      }
    },
    {
      "cell_type": "code",
      "source": [
        "class Encoder(Layer):\n",
        "    def __init__(\n",
        "        self,\n",
        "        vocab_size: int,\n",
        "        sequence_len: int,\n",
        "        layer_num: int,\n",
        "        embed_dim: int,\n",
        "        head_num: int = 8,          # 헤드 갯수\n",
        "        hidden_dim: int = 2048,     # 히든 레이어 차원\n",
        "        dropout_ratio: float = 0.3, # 드롭아웃 비율\n",
        "    ):\n",
        "        super(Encoder, self).__init__(name='Encoder')\n",
        "\n",
        "        self.embed_dim = embed_dim\n",
        "\n",
        "        self.embedding = Embedding(input_dim=vocab_size, output_dim=embed_dim)\n",
        "        self.pos_encoding = PositionalEncoding(\n",
        "            position=sequence_len,\n",
        "            embed_dim=embed_dim\n",
        "        )\n",
        "        self.encoder_list = [\n",
        "            EncoderLayer(embed_dim, head_num, hidden_dim, dropout_ratio)\n",
        "            for _ in range(layer_num)\n",
        "        ]\n",
        "\n",
        "\n",
        "\n",
        "    def call(self, inputs):\n",
        "        '''\n",
        "        inputs: (batch_size, sequence_len)\n",
        "        '''\n",
        "        # positional encoding\n",
        "        outputs = self.embedding(inputs)\n",
        "        outputs *= tf.cast(self.embed_dim, tf.float32) ** -0.5\n",
        "        outputs = self.pos_encoding(outputs)   # (batch_size, sequence_len, embed_dim)\n",
        "\n",
        "        # generate padding mask\n",
        "        pad_mask = create_padding_mask(tensor=inputs)    # (batch_size, 1, 1, sequence_len)\n",
        "\n",
        "        # encoder layer\n",
        "        for encoder in self.encoder_list:\n",
        "            outputs = encoder(inputs=outputs, pad_mask=pad_mask)\n",
        "\n",
        "        return outputs   # (batch_size, sequence_len, embed_dim)"
      ],
      "metadata": {
        "id": "wc3t8vbhr51D"
      },
      "execution_count": 29,
      "outputs": []
    },
    {
      "cell_type": "markdown",
      "source": [
        "## Decoder Layer"
      ],
      "metadata": {
        "id": "mUSz3OV2-Cr0"
      }
    },
    {
      "cell_type": "code",
      "source": [
        "# 디코더의 첫번째 서브층(sublayer)에서 미래 토큰을 Mask하는 함수\n",
        "def create_look_ahead_mask(tensor):\n",
        "    '''\n",
        "    tensor: (batch_size, sequence_len)\n",
        "    '''\n",
        "    seq_len = tf.shape(tensor)[-1]\n",
        "    # (sequence_len, sequence_len)\n",
        "    look_ahead_mask = 1 - tf.linalg.band_part(tf.ones((seq_len, seq_len)), -1, 0)\n",
        "    padding_mask = create_padding_mask(tensor)   # (batch_size, 1, 1, sequence_len)\n",
        "\n",
        "    # 패딩 마스크와 룩어헤드 마스크를 함께 고려\n",
        "    # (batch_size, 1, sequence_len, sequence_len)\n",
        "    return tf.maximum(look_ahead_mask, padding_mask)"
      ],
      "metadata": {
        "id": "KYhnHTZu-EGt"
      },
      "execution_count": 30,
      "outputs": []
    },
    {
      "cell_type": "code",
      "source": [
        "class DecoderLayer(Layer):\n",
        "    def __init__(\n",
        "        self,\n",
        "        embed_dim: int = 512,\n",
        "        head_num: int = 8,\n",
        "        hidden_dim: int = 2048,\n",
        "        dropout_ratio: float = 0.3, # 드롭아웃 비율\n",
        "    ):\n",
        "        super(DecoderLayer, self).__init__()\n",
        "\n",
        "        # masked multi-head attention layer norm\n",
        "        self.mmh_layer_norm = LayerNormalization(axis=-1)\n",
        "        # multi-head attention layer norm\n",
        "        self.mh_layer_norm = LayerNormalization(axis=-1)\n",
        "        # feed forward layer norm\n",
        "        self.ff_layer_norm = LayerNormalization(axis=-1)\n",
        "\n",
        "        # masked multi-head attention\n",
        "        self.mmh_attention = MultiHeadAttentionLayer(\n",
        "            embed_dim=embed_dim,\n",
        "            head_num=head_num\n",
        "        )\n",
        "        # multi-head attention (Encoder-Decoder attention)\n",
        "        self.mh_attention = MultiHeadAttentionLayer(\n",
        "            embed_dim=embed_dim,\n",
        "            head_num=head_num\n",
        "        )\n",
        "        # feed forward\n",
        "        self.ff = FeedForwardLayer(\n",
        "            hidden_dim=hidden_dim,\n",
        "            embed_dim=embed_dim\n",
        "        )\n",
        "        self.dropout = Dropout(rate=dropout_ratio)\n",
        "\n",
        "\n",
        "    def call(\n",
        "        self,\n",
        "        inputs,\n",
        "        enc_output,\n",
        "        look_ahead_mask,\n",
        "        padding_mask\n",
        "    ):\n",
        "        '''\n",
        "        inputs: (batch_size, sequence_len, embed_dim)\n",
        "        enc_output: (batch_size, sequence_len, embed_dim)\n",
        "        look_ahead_mask: (batch_size, 1, sequence_len, sequence_len)\n",
        "        padding_mask: (batch_size, 1, 1, sequence_len)\n",
        "        '''\n",
        "        # masked multi-head attention\n",
        "        mmh_outputs = self.mmh_attention(\n",
        "            query=inputs,\n",
        "            key=inputs,\n",
        "            value=inputs,\n",
        "            mask=look_ahead_mask\n",
        "        )\n",
        "        # (batch size, sequence length, embed_dim)\n",
        "        mmh_outputs = self.mmh_layer_norm(self.dropout(mmh_outputs) + inputs)\n",
        "\n",
        "        # multi-head attention\n",
        "        mh_outputs = self.mh_attention(\n",
        "            query=enc_output,\n",
        "            key=enc_output,\n",
        "            value=mmh_outputs,\n",
        "            mask=padding_mask\n",
        "        )\n",
        "        mh_outputs = self.mh_layer_norm(self.dropout(mh_outputs) + mmh_outputs)\n",
        "\n",
        "        # feed forward network propagation\n",
        "        outputs = self.ff(mh_outputs)\n",
        "        outputs = self.ff_layer_norm(self.dropout(outputs) + mh_outputs)\n",
        "\n",
        "        return outputs  # (batch size, sequence length, embed_dim)\n"
      ],
      "metadata": {
        "id": "2Dz-XXaDHjNS"
      },
      "execution_count": 31,
      "outputs": []
    },
    {
      "cell_type": "markdown",
      "source": [
        "## Decoder"
      ],
      "metadata": {
        "id": "Qze6pxbxRPAl"
      }
    },
    {
      "cell_type": "code",
      "source": [
        "class Decoder(Layer):\n",
        "    def __init__(\n",
        "        self,\n",
        "        vocab_size: int,\n",
        "        sequence_len: int,\n",
        "        layer_num: int,\n",
        "        embed_dim: int,\n",
        "        head_num: int = 8,          # 헤드 갯수\n",
        "        hidden_dim: int = 2048,     # 히든 레이어 차원\n",
        "        dropout_ratio: float = 0.3, # 드롭아웃 비율\n",
        "    ):\n",
        "        super(Decoder, self).__init__(name='Decoder')\n",
        "\n",
        "        self.embed_dim = embed_dim\n",
        "\n",
        "        self.embedding = Embedding(input_dim=vocab_size, output_dim=embed_dim)\n",
        "        self.pos_encoding = PositionalEncoding(\n",
        "            position=sequence_len,\n",
        "            embed_dim=embed_dim\n",
        "        )\n",
        "        self.decoder_list = [\n",
        "            DecoderLayer(embed_dim, head_num, hidden_dim, dropout_ratio)\n",
        "            for _ in range(layer_num)\n",
        "        ]\n",
        "\n",
        "\n",
        "    def call(\n",
        "        self,\n",
        "        inputs,\n",
        "        enc_output\n",
        "    ):\n",
        "        '''\n",
        "        inputs: (batch_size, sequence_len)\n",
        "        enc_output: (batch_size, sequence_len, embed_dim)\n",
        "        '''\n",
        "        # position embedding\n",
        "        outputs = self.embedding(inputs)\n",
        "        outputs *= tf.cast(self.embed_dim, tf.float32) ** -0.5\n",
        "        outputs = self.pos_encoding(outputs)   # (batch_size, sequence_len, embed_dim)\n",
        "\n",
        "        # generate look-ahead mask\n",
        "        look_ahead_mask = create_look_ahead_mask(inputs)\n",
        "\n",
        "        # generate padding mask\n",
        "        padding_mask = create_padding_mask(inputs)\n",
        "\n",
        "        # decoder layer\n",
        "        for decoder in self.decoder_list:\n",
        "            outputs = decoder(\n",
        "                inputs=outputs,\n",
        "                enc_output=enc_output,\n",
        "                look_ahead_mask=look_ahead_mask,\n",
        "                padding_mask=padding_mask\n",
        "            )\n",
        "\n",
        "        return outputs   # (batch_size, sequence_len, embed_dim)\n"
      ],
      "metadata": {
        "id": "UD2dP9L5RLHW"
      },
      "execution_count": 32,
      "outputs": []
    },
    {
      "cell_type": "markdown",
      "source": [
        "## Transformer"
      ],
      "metadata": {
        "id": "EAbf4niAUcq7"
      }
    },
    {
      "cell_type": "code",
      "source": [
        "class Transformer(Model):\n",
        "    def __init__(\n",
        "        self,\n",
        "        vocab_size: int,\n",
        "        sequence_len: int,\n",
        "        layer_num: int,\n",
        "        embed_dim: int,\n",
        "        head_num: int = 8,          # 헤드 갯수\n",
        "        hidden_dim: int = 2048,     # 히든 레이어 차원\n",
        "        dropout_ratio: float = 0.3, # 드롭아웃 비율\n",
        "\n",
        "    ):\n",
        "        super(Transformer, self).__init__(name='Transformer')\n",
        "\n",
        "        self.encoder = Encoder(\n",
        "            vocab_size,\n",
        "            sequence_len,\n",
        "            layer_num,\n",
        "            embed_dim,\n",
        "            head_num,\n",
        "            hidden_dim,\n",
        "            dropout_ratio,\n",
        "        )\n",
        "        self.decoder = Decoder(\n",
        "            vocab_size,\n",
        "            sequence_len,\n",
        "            layer_num,\n",
        "            embed_dim,\n",
        "            head_num,\n",
        "            hidden_dim,\n",
        "            dropout_ratio,\n",
        "        )\n",
        "        self.dense = EinMix(\n",
        "            pattern='batch sequence dim_in -> batch sequence dim_out',\n",
        "            weight_shape='dim_in dim_out',\n",
        "            bias_shape='dim_out',\n",
        "            dim_in=embed_dim,\n",
        "            dim_out=vocab_size\n",
        "        )\n",
        "\n",
        "    def call(self, inputs):\n",
        "        '''\n",
        "        inputs: [(batch_size, sequence_len), (batch_size, sequence_len)]\n",
        "        '''\n",
        "        enc_output = self.encoder(inputs[0])\n",
        "        # (batch_size, sequence_len, embed_dim)\n",
        "        dec_output = self.decoder(inputs[1], enc_output)\n",
        "        # (batch_size, sequence_len, vocab_size)\n",
        "        outputs = self.dense(dec_output)\n",
        "        outputs = Softmax(axis=-1)(outputs)\n",
        "\n",
        "        return outputs  # (batch_size, sequence_len, vocab_size)"
      ],
      "metadata": {
        "id": "jzgJkOrhUeJ6"
      },
      "execution_count": 33,
      "outputs": []
    },
    {
      "cell_type": "markdown",
      "source": [
        "# Training"
      ],
      "metadata": {
        "id": "SYwW8bX15_At"
      }
    },
    {
      "cell_type": "markdown",
      "source": [
        "## 모델 생성"
      ],
      "metadata": {
        "id": "XeieftoD6Eke"
      }
    },
    {
      "cell_type": "code",
      "source": [
        "model = Transformer(\n",
        "    vocab_size=VOCAB_SIZE,\n",
        "    sequence_len=MAX_LENGTH,\n",
        "    layer_num=3,\n",
        "    embed_dim=512,\n",
        "    head_num=8,\n",
        "    hidden_dim=512,\n",
        "    dropout_ratio=0.3\n",
        ")"
      ],
      "metadata": {
        "id": "IsvGUtluXqc2"
      },
      "execution_count": 34,
      "outputs": []
    },
    {
      "cell_type": "markdown",
      "source": [
        "## Transformer 학습"
      ],
      "metadata": {
        "id": "PAceHNDb6GhD"
      }
    },
    {
      "cell_type": "markdown",
      "source": [
        "### 손실 함수 정의"
      ],
      "metadata": {
        "id": "t-sFSp3wDZv0"
      }
    },
    {
      "cell_type": "code",
      "source": [
        "# 손실 함수 정의\n",
        "class SCCELoss(Loss):\n",
        "    def __init__(self):\n",
        "        super(SCCELoss, self).__init__()\n",
        "        self.scce_loss = SparseCategoricalCrossentropy(\n",
        "            from_logits=False,\n",
        "            reduction='none'\n",
        "        )\n",
        "\n",
        "    def call(self, y_true, y_pred):\n",
        "        '''\n",
        "        y_true: (batch_size, sequence_len)\n",
        "        y_pred: (batch_size, sequence_len, vocab_size)\n",
        "        '''\n",
        "        y_true = tf.reshape(y_true, shape=(-1, MAX_LENGTH - 1))\n",
        "\n",
        "        # 패딩 값은 loss 계산 과정에서 제외해야 함!!\n",
        "        mask = tf.cast(tf.not_equal(y_true, 0), tf.float32)   # (batch_size, sequence_len)\n",
        "\n",
        "        loss = self.scce_loss(y_true, y_pred)  # (batch_size, sequence_len)\n",
        "        loss = tf.multiply(loss, mask)\n",
        "\n",
        "        return tf.reduce_mean(loss)"
      ],
      "metadata": {
        "id": "2Q2ZV86RAblj"
      },
      "execution_count": 35,
      "outputs": []
    },
    {
      "cell_type": "code",
      "source": [
        "loss = SCCELoss()"
      ],
      "metadata": {
        "id": "uoyhJvlVcK_y"
      },
      "execution_count": 36,
      "outputs": []
    },
    {
      "cell_type": "markdown",
      "source": [
        "### 최적화 정의"
      ],
      "metadata": {
        "id": "Ap_QbCfHDdY7"
      }
    },
    {
      "cell_type": "code",
      "source": [
        "# 스케쥴러 정의\n",
        "# 해당 클래스를 상속받을 때는, 사전에 실수 형으로 cast해야 런타임 에러를 방지할 수 있음.\n",
        "class CustomSchedule(LearningRateSchedule):\n",
        "    def __init__(\n",
        "        self,\n",
        "        embed_dim: int = 512,\n",
        "        warmup_steps: int = 5000\n",
        "    ):\n",
        "        super(CustomSchedule, self).__init__()\n",
        "        self.embed_dim = tf.cast(embed_dim, tf.float32)\n",
        "        self.warmup_steps = tf.cast(warmup_steps, tf.float32)\n",
        "\n",
        "    def __call__(self, step):\n",
        "        step_float = tf.cast(step, tf.float32)\n",
        "        arg1 = rsqrt(step_float)\n",
        "        arg2 = step_float * (self.warmup_steps**-1.5)\n",
        "\n",
        "        return rsqrt(self.embed_dim) * minimum(arg1, arg2)"
      ],
      "metadata": {
        "id": "oDYC-O-nDfqW"
      },
      "execution_count": 37,
      "outputs": []
    },
    {
      "cell_type": "code",
      "source": [
        "scheduler = CustomSchedule(embed_dim=512)"
      ],
      "metadata": {
        "id": "QbZCO5j3e7A2"
      },
      "execution_count": 38,
      "outputs": []
    },
    {
      "cell_type": "code",
      "source": [
        "# 최적화 함수 정의\n",
        "optimizer = tf.keras.optimizers.Adam(\n",
        "    learning_rate=scheduler,\n",
        "    beta_1=0.9,\n",
        "    beta_2=0.98,\n",
        "    epsilon=1e-9\n",
        ")"
      ],
      "metadata": {
        "id": "B8U0i1wYCa2h"
      },
      "execution_count": 39,
      "outputs": []
    },
    {
      "cell_type": "markdown",
      "source": [
        "### 평가 지표 정의"
      ],
      "metadata": {
        "id": "XUHkSHP_jv53"
      }
    },
    {
      "cell_type": "code",
      "source": [
        "metric = SparseCategoricalAccuracy()"
      ],
      "metadata": {
        "id": "kXgE7zWfl4Nn"
      },
      "execution_count": 40,
      "outputs": []
    },
    {
      "cell_type": "markdown",
      "source": [
        "### 학습 함수 정의"
      ],
      "metadata": {
        "id": "omaxM1o5MiJH"
      }
    },
    {
      "cell_type": "code",
      "source": [
        "def train(\n",
        "    epochs,\n",
        "    model,\n",
        "    dataset,\n",
        "    loss,\n",
        "    optimizer,\n",
        "    metric\n",
        "):\n",
        "    global_step = 0\n",
        "    for epoch in range(epochs):\n",
        "        for step, data in enumerate(dataset):\n",
        "            enc_inputs = data['inputs']        # 인코더 입력 (batch_size, sequence_len)\n",
        "            dec_inputs = data['dec_inputs']    # 디코더 입력 (batch_size, sequence_len)\n",
        "            answers = data['outputs']          # 레이블 (batch_size, sequence_len)\n",
        "\n",
        "            with tf.GradientTape() as tape:\n",
        "                # transformer 통과\n",
        "                probs = model(inputs=[enc_inputs, dec_inputs])  # (batch_size, sequence_len, vocab_size)\n",
        "\n",
        "                # loss 계산\n",
        "                losses = loss(answers, probs)\n",
        "\n",
        "            # 역전파 수행\n",
        "            trainable_vars = model.trainable_variables\n",
        "            gradients = tape.gradient(losses, trainable_vars)\n",
        "\n",
        "            # 파라미터 업데이트\n",
        "            optimizer.apply_gradients(\n",
        "                (grad, var)\n",
        "                for (grad, var) in zip(gradients, model.trainable_variables)\n",
        "                if grad is not None\n",
        "            )\n",
        "\n",
        "            if not step % 10:\n",
        "                # 지표 계산\n",
        "                answers = answers[:, :, tf.newaxis]  # (batch_size, sequence_len, 1)\n",
        "                metrics = metric(answers, probs).numpy()\n",
        "\n",
        "                # 동적 학습률 계산\n",
        "                lr = optimizer.learning_rate.numpy()\n",
        "\n",
        "                print(\n",
        "                    f\"[{epoch}/{epochs} epochs][{step}/{len(dataset)} steps]\\t\"\n",
        "                    f\"lr {lr:.4f}\\t\"\n",
        "                    f\"train loss {losses.numpy():.4f}\\t\"\n",
        "                    f\"train acc {metrics:.4f}\"\n",
        "                )\n",
        "\n",
        "            global_step += 1\n",
        "\n",
        "        print(\"=\" * 100)\n",
        ""
      ],
      "metadata": {
        "id": "fnSnEXBK6Htq"
      },
      "execution_count": 41,
      "outputs": []
    },
    {
      "cell_type": "markdown",
      "source": [
        "### 학습 수행"
      ],
      "metadata": {
        "id": "tN2KV_ZOMj4s"
      }
    },
    {
      "cell_type": "code",
      "source": [
        "train(\n",
        "    epochs=30,\n",
        "    model=model,\n",
        "    dataset=dataset,\n",
        "    loss=loss,\n",
        "    optimizer=optimizer,\n",
        "    metric=metric\n",
        ")"
      ],
      "metadata": {
        "colab": {
          "base_uri": "https://localhost:8080/"
        },
        "id": "TnpHS6MDMl3k",
        "outputId": "12291db4-6cf9-4afd-be3f-b93ae3d06be9"
      },
      "execution_count": 42,
      "outputs": [
        {
          "output_type": "stream",
          "name": "stderr",
          "text": [
            "WARNING:tensorflow:5 out of the last 5 calls to <function _BaseOptimizer._update_step_xla at 0x7d7763eb7520> triggered tf.function retracing. Tracing is expensive and the excessive number of tracings could be due to (1) creating @tf.function repeatedly in a loop, (2) passing tensors with different shapes, (3) passing Python objects instead of tensors. For (1), please define your @tf.function outside of the loop. For (2), @tf.function has reduce_retracing=True option that can avoid unnecessary retracing. For (3), please refer to https://www.tensorflow.org/guide/function#controlling_retracing and https://www.tensorflow.org/api_docs/python/tf/function for  more details.\n",
            "WARNING:tensorflow:6 out of the last 6 calls to <function _BaseOptimizer._update_step_xla at 0x7d7763eb7520> triggered tf.function retracing. Tracing is expensive and the excessive number of tracings could be due to (1) creating @tf.function repeatedly in a loop, (2) passing tensors with different shapes, (3) passing Python objects instead of tensors. For (1), please define your @tf.function outside of the loop. For (2), @tf.function has reduce_retracing=True option that can avoid unnecessary retracing. For (3), please refer to https://www.tensorflow.org/guide/function#controlling_retracing and https://www.tensorflow.org/api_docs/python/tf/function for  more details.\n"
          ]
        },
        {
          "output_type": "stream",
          "name": "stdout",
          "text": [
            "[0/30 epochs][0/185 steps]\tlr 0.0000\ttrain loss 1.5289\ttrain acc 0.0000\n",
            "[0/30 epochs][10/185 steps]\tlr 0.0000\ttrain loss 1.5486\ttrain acc 0.0000\n",
            "[0/30 epochs][20/185 steps]\tlr 0.0000\ttrain loss 1.6095\ttrain acc 0.0000\n",
            "[0/30 epochs][30/185 steps]\tlr 0.0000\ttrain loss 1.3043\ttrain acc 0.0064\n",
            "[0/30 epochs][40/185 steps]\tlr 0.0000\ttrain loss 1.3980\ttrain acc 0.0103\n",
            "[0/30 epochs][50/185 steps]\tlr 0.0000\ttrain loss 1.3447\ttrain acc 0.0128\n",
            "[0/30 epochs][60/185 steps]\tlr 0.0000\ttrain loss 1.1421\ttrain acc 0.0147\n",
            "[0/30 epochs][70/185 steps]\tlr 0.0000\ttrain loss 1.2904\ttrain acc 0.0178\n",
            "[0/30 epochs][80/185 steps]\tlr 0.0000\ttrain loss 1.2641\ttrain acc 0.0187\n",
            "[0/30 epochs][90/185 steps]\tlr 0.0000\ttrain loss 1.3205\ttrain acc 0.0194\n",
            "[0/30 epochs][100/185 steps]\tlr 0.0000\ttrain loss 1.3184\ttrain acc 0.0201\n",
            "[0/30 epochs][110/185 steps]\tlr 0.0000\ttrain loss 1.2101\ttrain acc 0.0208\n",
            "[0/30 epochs][120/185 steps]\tlr 0.0000\ttrain loss 1.3468\ttrain acc 0.0218\n",
            "[0/30 epochs][130/185 steps]\tlr 0.0000\ttrain loss 1.2096\ttrain acc 0.0224\n",
            "[0/30 epochs][140/185 steps]\tlr 0.0000\ttrain loss 1.1730\ttrain acc 0.0230\n",
            "[0/30 epochs][150/185 steps]\tlr 0.0000\ttrain loss 1.0456\ttrain acc 0.0238\n",
            "[0/30 epochs][160/185 steps]\tlr 0.0000\ttrain loss 1.1680\ttrain acc 0.0250\n",
            "[0/30 epochs][170/185 steps]\tlr 0.0000\ttrain loss 1.0185\ttrain acc 0.0263\n",
            "[0/30 epochs][180/185 steps]\tlr 0.0000\ttrain loss 1.1669\ttrain acc 0.0274\n",
            "====================================================================================================\n",
            "[1/30 epochs][0/185 steps]\tlr 0.0000\ttrain loss 1.0303\ttrain acc 0.0284\n",
            "[1/30 epochs][10/185 steps]\tlr 0.0000\ttrain loss 1.0405\ttrain acc 0.0295\n",
            "[1/30 epochs][20/185 steps]\tlr 0.0000\ttrain loss 1.0541\ttrain acc 0.0305\n",
            "[1/30 epochs][30/185 steps]\tlr 0.0000\ttrain loss 0.9922\ttrain acc 0.0313\n",
            "[1/30 epochs][40/185 steps]\tlr 0.0000\ttrain loss 1.1392\ttrain acc 0.0321\n",
            "[1/30 epochs][50/185 steps]\tlr 0.0000\ttrain loss 1.0076\ttrain acc 0.0329\n",
            "[1/30 epochs][60/185 steps]\tlr 0.0000\ttrain loss 0.9496\ttrain acc 0.0336\n",
            "[1/30 epochs][70/185 steps]\tlr 0.0000\ttrain loss 1.1168\ttrain acc 0.0343\n",
            "[1/30 epochs][80/185 steps]\tlr 0.0000\ttrain loss 1.1038\ttrain acc 0.0348\n",
            "[1/30 epochs][90/185 steps]\tlr 0.0000\ttrain loss 0.9620\ttrain acc 0.0354\n",
            "[1/30 epochs][100/185 steps]\tlr 0.0000\ttrain loss 0.9810\ttrain acc 0.0360\n",
            "[1/30 epochs][110/185 steps]\tlr 0.0000\ttrain loss 0.9333\ttrain acc 0.0365\n",
            "[1/30 epochs][120/185 steps]\tlr 0.0000\ttrain loss 0.9844\ttrain acc 0.0371\n",
            "[1/30 epochs][130/185 steps]\tlr 0.0000\ttrain loss 1.0472\ttrain acc 0.0373\n",
            "[1/30 epochs][140/185 steps]\tlr 0.0000\ttrain loss 0.9894\ttrain acc 0.0376\n",
            "[1/30 epochs][150/185 steps]\tlr 0.0000\ttrain loss 1.0110\ttrain acc 0.0380\n",
            "[1/30 epochs][160/185 steps]\tlr 0.0000\ttrain loss 1.0416\ttrain acc 0.0384\n",
            "[1/30 epochs][170/185 steps]\tlr 0.0000\ttrain loss 1.0219\ttrain acc 0.0388\n",
            "[1/30 epochs][180/185 steps]\tlr 0.0000\ttrain loss 1.0545\ttrain acc 0.0392\n",
            "====================================================================================================\n",
            "[2/30 epochs][0/185 steps]\tlr 0.0000\ttrain loss 1.0507\ttrain acc 0.0396\n",
            "[2/30 epochs][10/185 steps]\tlr 0.0000\ttrain loss 1.0570\ttrain acc 0.0400\n",
            "[2/30 epochs][20/185 steps]\tlr 0.0000\ttrain loss 0.8707\ttrain acc 0.0403\n",
            "[2/30 epochs][30/185 steps]\tlr 0.0000\ttrain loss 1.0261\ttrain acc 0.0407\n",
            "[2/30 epochs][40/185 steps]\tlr 0.0001\ttrain loss 0.9130\ttrain acc 0.0410\n",
            "[2/30 epochs][50/185 steps]\tlr 0.0001\ttrain loss 0.9895\ttrain acc 0.0413\n",
            "[2/30 epochs][60/185 steps]\tlr 0.0001\ttrain loss 0.9569\ttrain acc 0.0416\n",
            "[2/30 epochs][70/185 steps]\tlr 0.0001\ttrain loss 1.0223\ttrain acc 0.0418\n",
            "[2/30 epochs][80/185 steps]\tlr 0.0001\ttrain loss 0.9702\ttrain acc 0.0421\n",
            "[2/30 epochs][90/185 steps]\tlr 0.0001\ttrain loss 1.0167\ttrain acc 0.0423\n",
            "[2/30 epochs][100/185 steps]\tlr 0.0001\ttrain loss 1.0117\ttrain acc 0.0426\n",
            "[2/30 epochs][110/185 steps]\tlr 0.0001\ttrain loss 0.8917\ttrain acc 0.0428\n",
            "[2/30 epochs][120/185 steps]\tlr 0.0001\ttrain loss 0.9863\ttrain acc 0.0430\n",
            "[2/30 epochs][130/185 steps]\tlr 0.0001\ttrain loss 0.8432\ttrain acc 0.0432\n",
            "[2/30 epochs][140/185 steps]\tlr 0.0001\ttrain loss 1.0075\ttrain acc 0.0434\n",
            "[2/30 epochs][150/185 steps]\tlr 0.0001\ttrain loss 1.0515\ttrain acc 0.0436\n",
            "[2/30 epochs][160/185 steps]\tlr 0.0001\ttrain loss 0.9732\ttrain acc 0.0438\n",
            "[2/30 epochs][170/185 steps]\tlr 0.0001\ttrain loss 0.9758\ttrain acc 0.0440\n",
            "[2/30 epochs][180/185 steps]\tlr 0.0001\ttrain loss 0.9769\ttrain acc 0.0442\n",
            "====================================================================================================\n",
            "[3/30 epochs][0/185 steps]\tlr 0.0001\ttrain loss 0.9969\ttrain acc 0.0444\n",
            "[3/30 epochs][10/185 steps]\tlr 0.0001\ttrain loss 0.9351\ttrain acc 0.0445\n",
            "[3/30 epochs][20/185 steps]\tlr 0.0001\ttrain loss 0.9726\ttrain acc 0.0446\n",
            "[3/30 epochs][30/185 steps]\tlr 0.0001\ttrain loss 1.0033\ttrain acc 0.0448\n",
            "[3/30 epochs][40/185 steps]\tlr 0.0001\ttrain loss 0.9467\ttrain acc 0.0449\n",
            "[3/30 epochs][50/185 steps]\tlr 0.0001\ttrain loss 0.8985\ttrain acc 0.0451\n",
            "[3/30 epochs][60/185 steps]\tlr 0.0001\ttrain loss 0.8593\ttrain acc 0.0453\n",
            "[3/30 epochs][70/185 steps]\tlr 0.0001\ttrain loss 0.9871\ttrain acc 0.0454\n",
            "[3/30 epochs][80/185 steps]\tlr 0.0001\ttrain loss 0.9428\ttrain acc 0.0456\n",
            "[3/30 epochs][90/185 steps]\tlr 0.0001\ttrain loss 0.9478\ttrain acc 0.0457\n",
            "[3/30 epochs][100/185 steps]\tlr 0.0001\ttrain loss 0.8582\ttrain acc 0.0459\n",
            "[3/30 epochs][110/185 steps]\tlr 0.0001\ttrain loss 0.9188\ttrain acc 0.0460\n",
            "[3/30 epochs][120/185 steps]\tlr 0.0001\ttrain loss 1.0455\ttrain acc 0.0461\n",
            "[3/30 epochs][130/185 steps]\tlr 0.0001\ttrain loss 1.0813\ttrain acc 0.0462\n",
            "[3/30 epochs][140/185 steps]\tlr 0.0001\ttrain loss 0.8450\ttrain acc 0.0464\n",
            "[3/30 epochs][150/185 steps]\tlr 0.0001\ttrain loss 0.9223\ttrain acc 0.0465\n",
            "[3/30 epochs][160/185 steps]\tlr 0.0001\ttrain loss 0.8746\ttrain acc 0.0466\n",
            "[3/30 epochs][170/185 steps]\tlr 0.0001\ttrain loss 0.9418\ttrain acc 0.0467\n",
            "[3/30 epochs][180/185 steps]\tlr 0.0001\ttrain loss 0.8568\ttrain acc 0.0468\n",
            "====================================================================================================\n",
            "[4/30 epochs][0/185 steps]\tlr 0.0001\ttrain loss 0.8500\ttrain acc 0.0469\n",
            "[4/30 epochs][10/185 steps]\tlr 0.0001\ttrain loss 0.8606\ttrain acc 0.0470\n",
            "[4/30 epochs][20/185 steps]\tlr 0.0001\ttrain loss 0.9413\ttrain acc 0.0471\n",
            "[4/30 epochs][30/185 steps]\tlr 0.0001\ttrain loss 0.7756\ttrain acc 0.0472\n",
            "[4/30 epochs][40/185 steps]\tlr 0.0001\ttrain loss 0.8461\ttrain acc 0.0473\n",
            "[4/30 epochs][50/185 steps]\tlr 0.0001\ttrain loss 0.9522\ttrain acc 0.0474\n",
            "[4/30 epochs][60/185 steps]\tlr 0.0001\ttrain loss 0.8796\ttrain acc 0.0475\n",
            "[4/30 epochs][70/185 steps]\tlr 0.0001\ttrain loss 0.8849\ttrain acc 0.0476\n",
            "[4/30 epochs][80/185 steps]\tlr 0.0001\ttrain loss 0.9725\ttrain acc 0.0477\n",
            "[4/30 epochs][90/185 steps]\tlr 0.0001\ttrain loss 0.7666\ttrain acc 0.0478\n",
            "[4/30 epochs][100/185 steps]\tlr 0.0001\ttrain loss 0.9037\ttrain acc 0.0479\n",
            "[4/30 epochs][110/185 steps]\tlr 0.0001\ttrain loss 0.8495\ttrain acc 0.0479\n",
            "[4/30 epochs][120/185 steps]\tlr 0.0001\ttrain loss 0.9798\ttrain acc 0.0480\n",
            "[4/30 epochs][130/185 steps]\tlr 0.0001\ttrain loss 0.8701\ttrain acc 0.0481\n",
            "[4/30 epochs][140/185 steps]\tlr 0.0001\ttrain loss 0.8686\ttrain acc 0.0481\n",
            "[4/30 epochs][150/185 steps]\tlr 0.0001\ttrain loss 1.0079\ttrain acc 0.0482\n",
            "[4/30 epochs][160/185 steps]\tlr 0.0001\ttrain loss 0.9081\ttrain acc 0.0483\n",
            "[4/30 epochs][170/185 steps]\tlr 0.0001\ttrain loss 0.7554\ttrain acc 0.0483\n",
            "[4/30 epochs][180/185 steps]\tlr 0.0001\ttrain loss 0.8661\ttrain acc 0.0484\n",
            "====================================================================================================\n",
            "[5/30 epochs][0/185 steps]\tlr 0.0001\ttrain loss 0.9731\ttrain acc 0.0485\n",
            "[5/30 epochs][10/185 steps]\tlr 0.0001\ttrain loss 0.8335\ttrain acc 0.0485\n",
            "[5/30 epochs][20/185 steps]\tlr 0.0001\ttrain loss 0.8851\ttrain acc 0.0486\n",
            "[5/30 epochs][30/185 steps]\tlr 0.0001\ttrain loss 0.8707\ttrain acc 0.0487\n",
            "[5/30 epochs][40/185 steps]\tlr 0.0001\ttrain loss 0.7476\ttrain acc 0.0487\n",
            "[5/30 epochs][50/185 steps]\tlr 0.0001\ttrain loss 0.8594\ttrain acc 0.0488\n",
            "[5/30 epochs][60/185 steps]\tlr 0.0001\ttrain loss 0.8181\ttrain acc 0.0488\n",
            "[5/30 epochs][70/185 steps]\tlr 0.0001\ttrain loss 0.8813\ttrain acc 0.0489\n",
            "[5/30 epochs][80/185 steps]\tlr 0.0001\ttrain loss 0.8129\ttrain acc 0.0489\n",
            "[5/30 epochs][90/185 steps]\tlr 0.0001\ttrain loss 0.8881\ttrain acc 0.0490\n",
            "[5/30 epochs][100/185 steps]\tlr 0.0001\ttrain loss 0.9162\ttrain acc 0.0490\n",
            "[5/30 epochs][110/185 steps]\tlr 0.0001\ttrain loss 0.9168\ttrain acc 0.0491\n",
            "[5/30 epochs][120/185 steps]\tlr 0.0001\ttrain loss 0.7701\ttrain acc 0.0491\n",
            "[5/30 epochs][130/185 steps]\tlr 0.0001\ttrain loss 0.8512\ttrain acc 0.0492\n",
            "[5/30 epochs][140/185 steps]\tlr 0.0001\ttrain loss 0.9584\ttrain acc 0.0492\n",
            "[5/30 epochs][150/185 steps]\tlr 0.0001\ttrain loss 0.9317\ttrain acc 0.0493\n",
            "[5/30 epochs][160/185 steps]\tlr 0.0001\ttrain loss 0.9940\ttrain acc 0.0493\n",
            "[5/30 epochs][170/185 steps]\tlr 0.0001\ttrain loss 0.8560\ttrain acc 0.0493\n",
            "[5/30 epochs][180/185 steps]\tlr 0.0001\ttrain loss 0.9540\ttrain acc 0.0493\n",
            "====================================================================================================\n",
            "[6/30 epochs][0/185 steps]\tlr 0.0001\ttrain loss 0.7496\ttrain acc 0.0493\n",
            "[6/30 epochs][10/185 steps]\tlr 0.0001\ttrain loss 0.9223\ttrain acc 0.0494\n",
            "[6/30 epochs][20/185 steps]\tlr 0.0001\ttrain loss 0.8627\ttrain acc 0.0494\n",
            "[6/30 epochs][30/185 steps]\tlr 0.0001\ttrain loss 0.8050\ttrain acc 0.0495\n",
            "[6/30 epochs][40/185 steps]\tlr 0.0001\ttrain loss 0.9224\ttrain acc 0.0495\n",
            "[6/30 epochs][50/185 steps]\tlr 0.0001\ttrain loss 0.8482\ttrain acc 0.0496\n",
            "[6/30 epochs][60/185 steps]\tlr 0.0001\ttrain loss 0.9293\ttrain acc 0.0496\n",
            "[6/30 epochs][70/185 steps]\tlr 0.0001\ttrain loss 0.8912\ttrain acc 0.0496\n",
            "[6/30 epochs][80/185 steps]\tlr 0.0001\ttrain loss 0.8889\ttrain acc 0.0497\n",
            "[6/30 epochs][90/185 steps]\tlr 0.0001\ttrain loss 0.8569\ttrain acc 0.0497\n",
            "[6/30 epochs][100/185 steps]\tlr 0.0002\ttrain loss 0.8891\ttrain acc 0.0498\n",
            "[6/30 epochs][110/185 steps]\tlr 0.0002\ttrain loss 0.8208\ttrain acc 0.0499\n",
            "[6/30 epochs][120/185 steps]\tlr 0.0002\ttrain loss 1.0537\ttrain acc 0.0499\n",
            "[6/30 epochs][130/185 steps]\tlr 0.0002\ttrain loss 0.8390\ttrain acc 0.0499\n",
            "[6/30 epochs][140/185 steps]\tlr 0.0002\ttrain loss 0.8892\ttrain acc 0.0499\n",
            "[6/30 epochs][150/185 steps]\tlr 0.0002\ttrain loss 0.8923\ttrain acc 0.0500\n",
            "[6/30 epochs][160/185 steps]\tlr 0.0002\ttrain loss 0.9444\ttrain acc 0.0500\n",
            "[6/30 epochs][170/185 steps]\tlr 0.0002\ttrain loss 0.9543\ttrain acc 0.0500\n",
            "[6/30 epochs][180/185 steps]\tlr 0.0002\ttrain loss 0.9016\ttrain acc 0.0501\n",
            "====================================================================================================\n",
            "[7/30 epochs][0/185 steps]\tlr 0.0002\ttrain loss 0.8890\ttrain acc 0.0501\n",
            "[7/30 epochs][10/185 steps]\tlr 0.0002\ttrain loss 0.8097\ttrain acc 0.0501\n",
            "[7/30 epochs][20/185 steps]\tlr 0.0002\ttrain loss 0.8366\ttrain acc 0.0502\n",
            "[7/30 epochs][30/185 steps]\tlr 0.0002\ttrain loss 0.8818\ttrain acc 0.0502\n",
            "[7/30 epochs][40/185 steps]\tlr 0.0002\ttrain loss 0.7614\ttrain acc 0.0502\n",
            "[7/30 epochs][50/185 steps]\tlr 0.0002\ttrain loss 0.8168\ttrain acc 0.0503\n",
            "[7/30 epochs][60/185 steps]\tlr 0.0002\ttrain loss 0.9023\ttrain acc 0.0503\n",
            "[7/30 epochs][70/185 steps]\tlr 0.0002\ttrain loss 0.8310\ttrain acc 0.0503\n",
            "[7/30 epochs][80/185 steps]\tlr 0.0002\ttrain loss 0.8908\ttrain acc 0.0503\n",
            "[7/30 epochs][90/185 steps]\tlr 0.0002\ttrain loss 0.8929\ttrain acc 0.0502\n",
            "[7/30 epochs][100/185 steps]\tlr 0.0002\ttrain loss 0.9110\ttrain acc 0.0503\n",
            "[7/30 epochs][110/185 steps]\tlr 0.0002\ttrain loss 0.9194\ttrain acc 0.0503\n",
            "[7/30 epochs][120/185 steps]\tlr 0.0002\ttrain loss 0.8991\ttrain acc 0.0503\n",
            "[7/30 epochs][130/185 steps]\tlr 0.0002\ttrain loss 0.9550\ttrain acc 0.0504\n",
            "[7/30 epochs][140/185 steps]\tlr 0.0002\ttrain loss 0.8960\ttrain acc 0.0504\n",
            "[7/30 epochs][150/185 steps]\tlr 0.0002\ttrain loss 0.8269\ttrain acc 0.0504\n",
            "[7/30 epochs][160/185 steps]\tlr 0.0002\ttrain loss 0.9222\ttrain acc 0.0504\n",
            "[7/30 epochs][170/185 steps]\tlr 0.0002\ttrain loss 0.7389\ttrain acc 0.0505\n",
            "[7/30 epochs][180/185 steps]\tlr 0.0002\ttrain loss 0.8962\ttrain acc 0.0505\n",
            "====================================================================================================\n",
            "[8/30 epochs][0/185 steps]\tlr 0.0002\ttrain loss 0.8510\ttrain acc 0.0505\n",
            "[8/30 epochs][10/185 steps]\tlr 0.0002\ttrain loss 0.9966\ttrain acc 0.0506\n",
            "[8/30 epochs][20/185 steps]\tlr 0.0002\ttrain loss 0.9529\ttrain acc 0.0506\n",
            "[8/30 epochs][30/185 steps]\tlr 0.0002\ttrain loss 0.7871\ttrain acc 0.0506\n",
            "[8/30 epochs][40/185 steps]\tlr 0.0002\ttrain loss 0.8242\ttrain acc 0.0506\n",
            "[8/30 epochs][50/185 steps]\tlr 0.0002\ttrain loss 0.8798\ttrain acc 0.0507\n",
            "[8/30 epochs][60/185 steps]\tlr 0.0002\ttrain loss 0.8870\ttrain acc 0.0507\n",
            "[8/30 epochs][70/185 steps]\tlr 0.0002\ttrain loss 0.9706\ttrain acc 0.0507\n",
            "[8/30 epochs][80/185 steps]\tlr 0.0002\ttrain loss 0.8665\ttrain acc 0.0507\n",
            "[8/30 epochs][90/185 steps]\tlr 0.0002\ttrain loss 0.9926\ttrain acc 0.0508\n",
            "[8/30 epochs][100/185 steps]\tlr 0.0002\ttrain loss 0.8206\ttrain acc 0.0508\n",
            "[8/30 epochs][110/185 steps]\tlr 0.0002\ttrain loss 0.8740\ttrain acc 0.0508\n",
            "[8/30 epochs][120/185 steps]\tlr 0.0002\ttrain loss 0.8520\ttrain acc 0.0509\n",
            "[8/30 epochs][130/185 steps]\tlr 0.0002\ttrain loss 0.9287\ttrain acc 0.0509\n",
            "[8/30 epochs][140/185 steps]\tlr 0.0002\ttrain loss 1.0389\ttrain acc 0.0508\n",
            "[8/30 epochs][150/185 steps]\tlr 0.0002\ttrain loss 0.7952\ttrain acc 0.0508\n",
            "[8/30 epochs][160/185 steps]\tlr 0.0002\ttrain loss 0.8943\ttrain acc 0.0508\n",
            "[8/30 epochs][170/185 steps]\tlr 0.0002\ttrain loss 0.8979\ttrain acc 0.0508\n",
            "[8/30 epochs][180/185 steps]\tlr 0.0002\ttrain loss 0.9245\ttrain acc 0.0509\n",
            "====================================================================================================\n",
            "[9/30 epochs][0/185 steps]\tlr 0.0002\ttrain loss 0.8028\ttrain acc 0.0509\n",
            "[9/30 epochs][10/185 steps]\tlr 0.0002\ttrain loss 0.9456\ttrain acc 0.0509\n",
            "[9/30 epochs][20/185 steps]\tlr 0.0002\ttrain loss 0.8339\ttrain acc 0.0509\n",
            "[9/30 epochs][30/185 steps]\tlr 0.0002\ttrain loss 0.8938\ttrain acc 0.0509\n",
            "[9/30 epochs][40/185 steps]\tlr 0.0002\ttrain loss 0.8367\ttrain acc 0.0509\n",
            "[9/30 epochs][50/185 steps]\tlr 0.0002\ttrain loss 0.7791\ttrain acc 0.0509\n",
            "[9/30 epochs][60/185 steps]\tlr 0.0002\ttrain loss 0.8221\ttrain acc 0.0510\n",
            "[9/30 epochs][70/185 steps]\tlr 0.0002\ttrain loss 1.0115\ttrain acc 0.0510\n",
            "[9/30 epochs][80/185 steps]\tlr 0.0002\ttrain loss 0.8731\ttrain acc 0.0510\n",
            "[9/30 epochs][90/185 steps]\tlr 0.0002\ttrain loss 0.9029\ttrain acc 0.0510\n",
            "[9/30 epochs][100/185 steps]\tlr 0.0002\ttrain loss 0.7921\ttrain acc 0.0510\n",
            "[9/30 epochs][110/185 steps]\tlr 0.0002\ttrain loss 0.8687\ttrain acc 0.0511\n",
            "[9/30 epochs][120/185 steps]\tlr 0.0002\ttrain loss 0.8324\ttrain acc 0.0511\n",
            "[9/30 epochs][130/185 steps]\tlr 0.0002\ttrain loss 0.9586\ttrain acc 0.0511\n",
            "[9/30 epochs][140/185 steps]\tlr 0.0002\ttrain loss 0.8236\ttrain acc 0.0511\n",
            "[9/30 epochs][150/185 steps]\tlr 0.0002\ttrain loss 0.7798\ttrain acc 0.0511\n",
            "[9/30 epochs][160/185 steps]\tlr 0.0002\ttrain loss 0.8618\ttrain acc 0.0512\n",
            "[9/30 epochs][170/185 steps]\tlr 0.0002\ttrain loss 0.7589\ttrain acc 0.0512\n",
            "[9/30 epochs][180/185 steps]\tlr 0.0002\ttrain loss 0.8068\ttrain acc 0.0512\n",
            "====================================================================================================\n",
            "[10/30 epochs][0/185 steps]\tlr 0.0002\ttrain loss 0.7836\ttrain acc 0.0512\n",
            "[10/30 epochs][10/185 steps]\tlr 0.0002\ttrain loss 0.7101\ttrain acc 0.0512\n",
            "[10/30 epochs][20/185 steps]\tlr 0.0002\ttrain loss 0.9050\ttrain acc 0.0513\n",
            "[10/30 epochs][30/185 steps]\tlr 0.0002\ttrain loss 0.8562\ttrain acc 0.0513\n",
            "[10/30 epochs][40/185 steps]\tlr 0.0002\ttrain loss 0.7851\ttrain acc 0.0512\n",
            "[10/30 epochs][50/185 steps]\tlr 0.0002\ttrain loss 0.7850\ttrain acc 0.0513\n",
            "[10/30 epochs][60/185 steps]\tlr 0.0002\ttrain loss 0.8245\ttrain acc 0.0513\n",
            "[10/30 epochs][70/185 steps]\tlr 0.0002\ttrain loss 0.8493\ttrain acc 0.0513\n",
            "[10/30 epochs][80/185 steps]\tlr 0.0002\ttrain loss 0.7973\ttrain acc 0.0513\n",
            "[10/30 epochs][90/185 steps]\tlr 0.0002\ttrain loss 0.8092\ttrain acc 0.0513\n",
            "[10/30 epochs][100/185 steps]\tlr 0.0002\ttrain loss 0.8579\ttrain acc 0.0513\n",
            "[10/30 epochs][110/185 steps]\tlr 0.0002\ttrain loss 0.8237\ttrain acc 0.0514\n",
            "[10/30 epochs][120/185 steps]\tlr 0.0002\ttrain loss 0.7331\ttrain acc 0.0514\n",
            "[10/30 epochs][130/185 steps]\tlr 0.0002\ttrain loss 1.0131\ttrain acc 0.0513\n",
            "[10/30 epochs][140/185 steps]\tlr 0.0002\ttrain loss 0.9872\ttrain acc 0.0513\n",
            "[10/30 epochs][150/185 steps]\tlr 0.0002\ttrain loss 0.8038\ttrain acc 0.0513\n",
            "[10/30 epochs][160/185 steps]\tlr 0.0003\ttrain loss 0.7575\ttrain acc 0.0513\n",
            "[10/30 epochs][170/185 steps]\tlr 0.0003\ttrain loss 0.7386\ttrain acc 0.0514\n",
            "[10/30 epochs][180/185 steps]\tlr 0.0003\ttrain loss 0.8052\ttrain acc 0.0514\n",
            "====================================================================================================\n",
            "[11/30 epochs][0/185 steps]\tlr 0.0003\ttrain loss 0.7744\ttrain acc 0.0514\n",
            "[11/30 epochs][10/185 steps]\tlr 0.0003\ttrain loss 0.7882\ttrain acc 0.0514\n",
            "[11/30 epochs][20/185 steps]\tlr 0.0003\ttrain loss 0.7971\ttrain acc 0.0514\n",
            "[11/30 epochs][30/185 steps]\tlr 0.0003\ttrain loss 0.7729\ttrain acc 0.0514\n",
            "[11/30 epochs][40/185 steps]\tlr 0.0003\ttrain loss 0.8316\ttrain acc 0.0515\n",
            "[11/30 epochs][50/185 steps]\tlr 0.0003\ttrain loss 0.8448\ttrain acc 0.0515\n",
            "[11/30 epochs][60/185 steps]\tlr 0.0003\ttrain loss 0.8265\ttrain acc 0.0515\n",
            "[11/30 epochs][70/185 steps]\tlr 0.0003\ttrain loss 0.7468\ttrain acc 0.0515\n",
            "[11/30 epochs][80/185 steps]\tlr 0.0003\ttrain loss 0.8318\ttrain acc 0.0515\n",
            "[11/30 epochs][90/185 steps]\tlr 0.0003\ttrain loss 0.8758\ttrain acc 0.0515\n",
            "[11/30 epochs][100/185 steps]\tlr 0.0003\ttrain loss 0.9322\ttrain acc 0.0515\n",
            "[11/30 epochs][110/185 steps]\tlr 0.0003\ttrain loss 0.8684\ttrain acc 0.0515\n",
            "[11/30 epochs][120/185 steps]\tlr 0.0003\ttrain loss 0.8288\ttrain acc 0.0515\n",
            "[11/30 epochs][130/185 steps]\tlr 0.0003\ttrain loss 0.9276\ttrain acc 0.0515\n",
            "[11/30 epochs][140/185 steps]\tlr 0.0003\ttrain loss 0.9456\ttrain acc 0.0516\n",
            "[11/30 epochs][150/185 steps]\tlr 0.0003\ttrain loss 0.8918\ttrain acc 0.0516\n",
            "[11/30 epochs][160/185 steps]\tlr 0.0003\ttrain loss 0.7250\ttrain acc 0.0516\n",
            "[11/30 epochs][170/185 steps]\tlr 0.0003\ttrain loss 0.7892\ttrain acc 0.0516\n",
            "[11/30 epochs][180/185 steps]\tlr 0.0003\ttrain loss 0.9395\ttrain acc 0.0516\n",
            "====================================================================================================\n",
            "[12/30 epochs][0/185 steps]\tlr 0.0003\ttrain loss 0.8504\ttrain acc 0.0516\n",
            "[12/30 epochs][10/185 steps]\tlr 0.0003\ttrain loss 0.7687\ttrain acc 0.0516\n",
            "[12/30 epochs][20/185 steps]\tlr 0.0003\ttrain loss 0.7753\ttrain acc 0.0516\n",
            "[12/30 epochs][30/185 steps]\tlr 0.0003\ttrain loss 0.7951\ttrain acc 0.0516\n",
            "[12/30 epochs][40/185 steps]\tlr 0.0003\ttrain loss 0.8381\ttrain acc 0.0516\n",
            "[12/30 epochs][50/185 steps]\tlr 0.0003\ttrain loss 0.8490\ttrain acc 0.0516\n",
            "[12/30 epochs][60/185 steps]\tlr 0.0003\ttrain loss 0.8906\ttrain acc 0.0516\n",
            "[12/30 epochs][70/185 steps]\tlr 0.0003\ttrain loss 0.7844\ttrain acc 0.0517\n",
            "[12/30 epochs][80/185 steps]\tlr 0.0003\ttrain loss 0.8446\ttrain acc 0.0517\n",
            "[12/30 epochs][90/185 steps]\tlr 0.0003\ttrain loss 0.8495\ttrain acc 0.0517\n",
            "[12/30 epochs][100/185 steps]\tlr 0.0003\ttrain loss 0.7449\ttrain acc 0.0517\n",
            "[12/30 epochs][110/185 steps]\tlr 0.0003\ttrain loss 0.7643\ttrain acc 0.0517\n",
            "[12/30 epochs][120/185 steps]\tlr 0.0003\ttrain loss 0.8100\ttrain acc 0.0517\n",
            "[12/30 epochs][130/185 steps]\tlr 0.0003\ttrain loss 0.8029\ttrain acc 0.0517\n",
            "[12/30 epochs][140/185 steps]\tlr 0.0003\ttrain loss 0.8527\ttrain acc 0.0518\n",
            "[12/30 epochs][150/185 steps]\tlr 0.0003\ttrain loss 0.9669\ttrain acc 0.0518\n",
            "[12/30 epochs][160/185 steps]\tlr 0.0003\ttrain loss 0.8340\ttrain acc 0.0518\n",
            "[12/30 epochs][170/185 steps]\tlr 0.0003\ttrain loss 0.8218\ttrain acc 0.0518\n",
            "[12/30 epochs][180/185 steps]\tlr 0.0003\ttrain loss 0.8101\ttrain acc 0.0518\n",
            "====================================================================================================\n",
            "[13/30 epochs][0/185 steps]\tlr 0.0003\ttrain loss 1.1092\ttrain acc 0.0517\n",
            "[13/30 epochs][10/185 steps]\tlr 0.0003\ttrain loss 0.8460\ttrain acc 0.0518\n",
            "[13/30 epochs][20/185 steps]\tlr 0.0003\ttrain loss 0.7104\ttrain acc 0.0518\n",
            "[13/30 epochs][30/185 steps]\tlr 0.0003\ttrain loss 0.8045\ttrain acc 0.0518\n",
            "[13/30 epochs][40/185 steps]\tlr 0.0003\ttrain loss 0.8467\ttrain acc 0.0518\n",
            "[13/30 epochs][50/185 steps]\tlr 0.0003\ttrain loss 0.7750\ttrain acc 0.0518\n",
            "[13/30 epochs][60/185 steps]\tlr 0.0003\ttrain loss 0.8304\ttrain acc 0.0518\n",
            "[13/30 epochs][70/185 steps]\tlr 0.0003\ttrain loss 0.8097\ttrain acc 0.0518\n",
            "[13/30 epochs][80/185 steps]\tlr 0.0003\ttrain loss 0.8121\ttrain acc 0.0518\n",
            "[13/30 epochs][90/185 steps]\tlr 0.0003\ttrain loss 0.8439\ttrain acc 0.0518\n",
            "[13/30 epochs][100/185 steps]\tlr 0.0003\ttrain loss 0.8106\ttrain acc 0.0518\n",
            "[13/30 epochs][110/185 steps]\tlr 0.0003\ttrain loss 0.7901\ttrain acc 0.0519\n",
            "[13/30 epochs][120/185 steps]\tlr 0.0003\ttrain loss 0.8395\ttrain acc 0.0519\n",
            "[13/30 epochs][130/185 steps]\tlr 0.0003\ttrain loss 0.9318\ttrain acc 0.0519\n",
            "[13/30 epochs][140/185 steps]\tlr 0.0003\ttrain loss 0.8613\ttrain acc 0.0519\n",
            "[13/30 epochs][150/185 steps]\tlr 0.0003\ttrain loss 0.8568\ttrain acc 0.0519\n",
            "[13/30 epochs][160/185 steps]\tlr 0.0003\ttrain loss 0.8873\ttrain acc 0.0519\n",
            "[13/30 epochs][170/185 steps]\tlr 0.0003\ttrain loss 0.8110\ttrain acc 0.0519\n",
            "[13/30 epochs][180/185 steps]\tlr 0.0003\ttrain loss 0.8481\ttrain acc 0.0519\n",
            "====================================================================================================\n",
            "[14/30 epochs][0/185 steps]\tlr 0.0003\ttrain loss 0.7816\ttrain acc 0.0519\n",
            "[14/30 epochs][10/185 steps]\tlr 0.0003\ttrain loss 0.8424\ttrain acc 0.0519\n",
            "[14/30 epochs][20/185 steps]\tlr 0.0003\ttrain loss 0.8735\ttrain acc 0.0519\n",
            "[14/30 epochs][30/185 steps]\tlr 0.0003\ttrain loss 0.8624\ttrain acc 0.0519\n",
            "[14/30 epochs][40/185 steps]\tlr 0.0003\ttrain loss 0.8478\ttrain acc 0.0519\n",
            "[14/30 epochs][50/185 steps]\tlr 0.0003\ttrain loss 0.7606\ttrain acc 0.0519\n",
            "[14/30 epochs][60/185 steps]\tlr 0.0003\ttrain loss 0.8016\ttrain acc 0.0519\n",
            "[14/30 epochs][70/185 steps]\tlr 0.0003\ttrain loss 0.7790\ttrain acc 0.0520\n",
            "[14/30 epochs][80/185 steps]\tlr 0.0003\ttrain loss 0.7551\ttrain acc 0.0520\n",
            "[14/30 epochs][90/185 steps]\tlr 0.0003\ttrain loss 0.8516\ttrain acc 0.0520\n",
            "[14/30 epochs][100/185 steps]\tlr 0.0003\ttrain loss 0.7696\ttrain acc 0.0520\n",
            "[14/30 epochs][110/185 steps]\tlr 0.0003\ttrain loss 0.8884\ttrain acc 0.0520\n",
            "[14/30 epochs][120/185 steps]\tlr 0.0003\ttrain loss 0.9821\ttrain acc 0.0520\n",
            "[14/30 epochs][130/185 steps]\tlr 0.0003\ttrain loss 0.9516\ttrain acc 0.0520\n",
            "[14/30 epochs][140/185 steps]\tlr 0.0003\ttrain loss 0.7572\ttrain acc 0.0520\n",
            "[14/30 epochs][150/185 steps]\tlr 0.0003\ttrain loss 0.7428\ttrain acc 0.0520\n",
            "[14/30 epochs][160/185 steps]\tlr 0.0003\ttrain loss 0.8024\ttrain acc 0.0521\n",
            "[14/30 epochs][170/185 steps]\tlr 0.0003\ttrain loss 0.8223\ttrain acc 0.0521\n",
            "[14/30 epochs][180/185 steps]\tlr 0.0003\ttrain loss 0.8732\ttrain acc 0.0521\n",
            "====================================================================================================\n",
            "[15/30 epochs][0/185 steps]\tlr 0.0003\ttrain loss 0.7999\ttrain acc 0.0521\n",
            "[15/30 epochs][10/185 steps]\tlr 0.0003\ttrain loss 0.8638\ttrain acc 0.0521\n",
            "[15/30 epochs][20/185 steps]\tlr 0.0003\ttrain loss 0.6744\ttrain acc 0.0521\n",
            "[15/30 epochs][30/185 steps]\tlr 0.0004\ttrain loss 0.8376\ttrain acc 0.0521\n",
            "[15/30 epochs][40/185 steps]\tlr 0.0004\ttrain loss 0.7817\ttrain acc 0.0521\n",
            "[15/30 epochs][50/185 steps]\tlr 0.0004\ttrain loss 0.7909\ttrain acc 0.0521\n",
            "[15/30 epochs][60/185 steps]\tlr 0.0004\ttrain loss 0.8485\ttrain acc 0.0521\n",
            "[15/30 epochs][70/185 steps]\tlr 0.0004\ttrain loss 0.8676\ttrain acc 0.0521\n",
            "[15/30 epochs][80/185 steps]\tlr 0.0004\ttrain loss 0.8253\ttrain acc 0.0521\n",
            "[15/30 epochs][90/185 steps]\tlr 0.0004\ttrain loss 0.7721\ttrain acc 0.0521\n",
            "[15/30 epochs][100/185 steps]\tlr 0.0004\ttrain loss 0.7286\ttrain acc 0.0521\n",
            "[15/30 epochs][110/185 steps]\tlr 0.0004\ttrain loss 0.8140\ttrain acc 0.0521\n",
            "[15/30 epochs][120/185 steps]\tlr 0.0004\ttrain loss 0.8226\ttrain acc 0.0521\n",
            "[15/30 epochs][130/185 steps]\tlr 0.0004\ttrain loss 0.8660\ttrain acc 0.0521\n",
            "[15/30 epochs][140/185 steps]\tlr 0.0004\ttrain loss 0.7898\ttrain acc 0.0521\n",
            "[15/30 epochs][150/185 steps]\tlr 0.0004\ttrain loss 0.8379\ttrain acc 0.0522\n",
            "[15/30 epochs][160/185 steps]\tlr 0.0004\ttrain loss 0.7650\ttrain acc 0.0522\n",
            "[15/30 epochs][170/185 steps]\tlr 0.0004\ttrain loss 0.7894\ttrain acc 0.0522\n",
            "[15/30 epochs][180/185 steps]\tlr 0.0004\ttrain loss 0.8920\ttrain acc 0.0522\n",
            "====================================================================================================\n",
            "[16/30 epochs][0/185 steps]\tlr 0.0004\ttrain loss 0.8603\ttrain acc 0.0522\n",
            "[16/30 epochs][10/185 steps]\tlr 0.0004\ttrain loss 0.8217\ttrain acc 0.0522\n",
            "[16/30 epochs][20/185 steps]\tlr 0.0004\ttrain loss 0.7534\ttrain acc 0.0522\n",
            "[16/30 epochs][30/185 steps]\tlr 0.0004\ttrain loss 0.7572\ttrain acc 0.0522\n",
            "[16/30 epochs][40/185 steps]\tlr 0.0004\ttrain loss 0.9056\ttrain acc 0.0522\n",
            "[16/30 epochs][50/185 steps]\tlr 0.0004\ttrain loss 0.7017\ttrain acc 0.0522\n",
            "[16/30 epochs][60/185 steps]\tlr 0.0004\ttrain loss 0.8353\ttrain acc 0.0522\n",
            "[16/30 epochs][70/185 steps]\tlr 0.0004\ttrain loss 0.9050\ttrain acc 0.0522\n",
            "[16/30 epochs][80/185 steps]\tlr 0.0004\ttrain loss 0.8542\ttrain acc 0.0522\n",
            "[16/30 epochs][90/185 steps]\tlr 0.0004\ttrain loss 0.9470\ttrain acc 0.0522\n",
            "[16/30 epochs][100/185 steps]\tlr 0.0004\ttrain loss 0.8244\ttrain acc 0.0522\n",
            "[16/30 epochs][110/185 steps]\tlr 0.0004\ttrain loss 0.8839\ttrain acc 0.0522\n",
            "[16/30 epochs][120/185 steps]\tlr 0.0004\ttrain loss 0.7607\ttrain acc 0.0522\n",
            "[16/30 epochs][130/185 steps]\tlr 0.0004\ttrain loss 0.8118\ttrain acc 0.0522\n",
            "[16/30 epochs][140/185 steps]\tlr 0.0004\ttrain loss 0.8446\ttrain acc 0.0522\n",
            "[16/30 epochs][150/185 steps]\tlr 0.0004\ttrain loss 0.8223\ttrain acc 0.0523\n",
            "[16/30 epochs][160/185 steps]\tlr 0.0004\ttrain loss 0.8101\ttrain acc 0.0523\n",
            "[16/30 epochs][170/185 steps]\tlr 0.0004\ttrain loss 0.8153\ttrain acc 0.0523\n",
            "[16/30 epochs][180/185 steps]\tlr 0.0004\ttrain loss 0.8059\ttrain acc 0.0523\n",
            "====================================================================================================\n",
            "[17/30 epochs][0/185 steps]\tlr 0.0004\ttrain loss 0.8091\ttrain acc 0.0523\n",
            "[17/30 epochs][10/185 steps]\tlr 0.0004\ttrain loss 0.7850\ttrain acc 0.0523\n",
            "[17/30 epochs][20/185 steps]\tlr 0.0004\ttrain loss 0.8634\ttrain acc 0.0523\n",
            "[17/30 epochs][30/185 steps]\tlr 0.0004\ttrain loss 0.8509\ttrain acc 0.0523\n",
            "[17/30 epochs][40/185 steps]\tlr 0.0004\ttrain loss 0.8203\ttrain acc 0.0523\n",
            "[17/30 epochs][50/185 steps]\tlr 0.0004\ttrain loss 0.7772\ttrain acc 0.0523\n",
            "[17/30 epochs][60/185 steps]\tlr 0.0004\ttrain loss 0.7381\ttrain acc 0.0523\n",
            "[17/30 epochs][70/185 steps]\tlr 0.0004\ttrain loss 0.8623\ttrain acc 0.0523\n",
            "[17/30 epochs][80/185 steps]\tlr 0.0004\ttrain loss 0.8613\ttrain acc 0.0523\n",
            "[17/30 epochs][90/185 steps]\tlr 0.0004\ttrain loss 0.8606\ttrain acc 0.0523\n",
            "[17/30 epochs][100/185 steps]\tlr 0.0004\ttrain loss 0.8217\ttrain acc 0.0523\n",
            "[17/30 epochs][110/185 steps]\tlr 0.0004\ttrain loss 0.8636\ttrain acc 0.0523\n",
            "[17/30 epochs][120/185 steps]\tlr 0.0004\ttrain loss 0.7789\ttrain acc 0.0523\n",
            "[17/30 epochs][130/185 steps]\tlr 0.0004\ttrain loss 0.8213\ttrain acc 0.0523\n",
            "[17/30 epochs][140/185 steps]\tlr 0.0004\ttrain loss 0.8343\ttrain acc 0.0524\n",
            "[17/30 epochs][150/185 steps]\tlr 0.0004\ttrain loss 0.7569\ttrain acc 0.0524\n",
            "[17/30 epochs][160/185 steps]\tlr 0.0004\ttrain loss 0.7870\ttrain acc 0.0524\n",
            "[17/30 epochs][170/185 steps]\tlr 0.0004\ttrain loss 0.8417\ttrain acc 0.0524\n",
            "[17/30 epochs][180/185 steps]\tlr 0.0004\ttrain loss 0.8974\ttrain acc 0.0524\n",
            "====================================================================================================\n",
            "[18/30 epochs][0/185 steps]\tlr 0.0004\ttrain loss 0.7522\ttrain acc 0.0524\n",
            "[18/30 epochs][10/185 steps]\tlr 0.0004\ttrain loss 0.8104\ttrain acc 0.0524\n",
            "[18/30 epochs][20/185 steps]\tlr 0.0004\ttrain loss 0.8540\ttrain acc 0.0524\n",
            "[18/30 epochs][30/185 steps]\tlr 0.0004\ttrain loss 0.8366\ttrain acc 0.0524\n",
            "[18/30 epochs][40/185 steps]\tlr 0.0004\ttrain loss 0.8332\ttrain acc 0.0524\n",
            "[18/30 epochs][50/185 steps]\tlr 0.0004\ttrain loss 1.0122\ttrain acc 0.0524\n",
            "[18/30 epochs][60/185 steps]\tlr 0.0004\ttrain loss 0.8305\ttrain acc 0.0524\n",
            "[18/30 epochs][70/185 steps]\tlr 0.0004\ttrain loss 0.7327\ttrain acc 0.0524\n",
            "[18/30 epochs][80/185 steps]\tlr 0.0004\ttrain loss 0.7780\ttrain acc 0.0524\n",
            "[18/30 epochs][90/185 steps]\tlr 0.0004\ttrain loss 0.7233\ttrain acc 0.0524\n",
            "[18/30 epochs][100/185 steps]\tlr 0.0004\ttrain loss 0.8399\ttrain acc 0.0524\n",
            "[18/30 epochs][110/185 steps]\tlr 0.0004\ttrain loss 0.7859\ttrain acc 0.0524\n",
            "[18/30 epochs][120/185 steps]\tlr 0.0004\ttrain loss 0.7707\ttrain acc 0.0524\n",
            "[18/30 epochs][130/185 steps]\tlr 0.0004\ttrain loss 0.9094\ttrain acc 0.0524\n",
            "[18/30 epochs][140/185 steps]\tlr 0.0004\ttrain loss 0.8845\ttrain acc 0.0524\n",
            "[18/30 epochs][150/185 steps]\tlr 0.0004\ttrain loss 0.9969\ttrain acc 0.0524\n",
            "[18/30 epochs][160/185 steps]\tlr 0.0004\ttrain loss 0.9005\ttrain acc 0.0524\n",
            "[18/30 epochs][170/185 steps]\tlr 0.0004\ttrain loss 0.8958\ttrain acc 0.0524\n",
            "[18/30 epochs][180/185 steps]\tlr 0.0004\ttrain loss 0.7425\ttrain acc 0.0524\n",
            "====================================================================================================\n",
            "[19/30 epochs][0/185 steps]\tlr 0.0004\ttrain loss 0.8299\ttrain acc 0.0524\n",
            "[19/30 epochs][10/185 steps]\tlr 0.0004\ttrain loss 0.7480\ttrain acc 0.0524\n",
            "[19/30 epochs][20/185 steps]\tlr 0.0004\ttrain loss 0.8772\ttrain acc 0.0524\n",
            "[19/30 epochs][30/185 steps]\tlr 0.0004\ttrain loss 0.7903\ttrain acc 0.0524\n",
            "[19/30 epochs][40/185 steps]\tlr 0.0004\ttrain loss 0.7639\ttrain acc 0.0524\n",
            "[19/30 epochs][50/185 steps]\tlr 0.0004\ttrain loss 0.8482\ttrain acc 0.0525\n",
            "[19/30 epochs][60/185 steps]\tlr 0.0004\ttrain loss 0.9517\ttrain acc 0.0525\n",
            "[19/30 epochs][70/185 steps]\tlr 0.0004\ttrain loss 0.8552\ttrain acc 0.0524\n",
            "[19/30 epochs][80/185 steps]\tlr 0.0004\ttrain loss 0.8257\ttrain acc 0.0524\n",
            "[19/30 epochs][90/185 steps]\tlr 0.0005\ttrain loss 0.8167\ttrain acc 0.0524\n",
            "[19/30 epochs][100/185 steps]\tlr 0.0005\ttrain loss 0.8918\ttrain acc 0.0524\n",
            "[19/30 epochs][110/185 steps]\tlr 0.0005\ttrain loss 0.7875\ttrain acc 0.0524\n",
            "[19/30 epochs][120/185 steps]\tlr 0.0005\ttrain loss 0.9163\ttrain acc 0.0524\n",
            "[19/30 epochs][130/185 steps]\tlr 0.0005\ttrain loss 0.8533\ttrain acc 0.0524\n",
            "[19/30 epochs][140/185 steps]\tlr 0.0005\ttrain loss 0.7740\ttrain acc 0.0524\n",
            "[19/30 epochs][150/185 steps]\tlr 0.0005\ttrain loss 0.9488\ttrain acc 0.0524\n",
            "[19/30 epochs][160/185 steps]\tlr 0.0005\ttrain loss 0.8626\ttrain acc 0.0525\n",
            "[19/30 epochs][170/185 steps]\tlr 0.0005\ttrain loss 0.8727\ttrain acc 0.0525\n",
            "[19/30 epochs][180/185 steps]\tlr 0.0005\ttrain loss 0.8252\ttrain acc 0.0525\n",
            "====================================================================================================\n",
            "[20/30 epochs][0/185 steps]\tlr 0.0005\ttrain loss 0.7763\ttrain acc 0.0525\n",
            "[20/30 epochs][10/185 steps]\tlr 0.0005\ttrain loss 0.7971\ttrain acc 0.0525\n",
            "[20/30 epochs][20/185 steps]\tlr 0.0005\ttrain loss 0.7631\ttrain acc 0.0525\n",
            "[20/30 epochs][30/185 steps]\tlr 0.0005\ttrain loss 0.8430\ttrain acc 0.0525\n",
            "[20/30 epochs][40/185 steps]\tlr 0.0005\ttrain loss 0.7411\ttrain acc 0.0525\n",
            "[20/30 epochs][50/185 steps]\tlr 0.0005\ttrain loss 0.7284\ttrain acc 0.0525\n",
            "[20/30 epochs][60/185 steps]\tlr 0.0005\ttrain loss 0.7775\ttrain acc 0.0525\n",
            "[20/30 epochs][70/185 steps]\tlr 0.0005\ttrain loss 0.9603\ttrain acc 0.0525\n",
            "[20/30 epochs][80/185 steps]\tlr 0.0005\ttrain loss 0.7245\ttrain acc 0.0525\n",
            "[20/30 epochs][90/185 steps]\tlr 0.0005\ttrain loss 0.8063\ttrain acc 0.0525\n",
            "[20/30 epochs][100/185 steps]\tlr 0.0005\ttrain loss 0.7390\ttrain acc 0.0525\n",
            "[20/30 epochs][110/185 steps]\tlr 0.0005\ttrain loss 0.7849\ttrain acc 0.0525\n",
            "[20/30 epochs][120/185 steps]\tlr 0.0005\ttrain loss 0.8805\ttrain acc 0.0525\n",
            "[20/30 epochs][130/185 steps]\tlr 0.0005\ttrain loss 0.9089\ttrain acc 0.0525\n",
            "[20/30 epochs][140/185 steps]\tlr 0.0005\ttrain loss 0.9422\ttrain acc 0.0525\n",
            "[20/30 epochs][150/185 steps]\tlr 0.0005\ttrain loss 0.9374\ttrain acc 0.0525\n",
            "[20/30 epochs][160/185 steps]\tlr 0.0005\ttrain loss 1.0819\ttrain acc 0.0525\n",
            "[20/30 epochs][170/185 steps]\tlr 0.0005\ttrain loss 0.9260\ttrain acc 0.0525\n",
            "[20/30 epochs][180/185 steps]\tlr 0.0005\ttrain loss 1.1550\ttrain acc 0.0525\n",
            "====================================================================================================\n",
            "[21/30 epochs][0/185 steps]\tlr 0.0005\ttrain loss 1.1325\ttrain acc 0.0525\n",
            "[21/30 epochs][10/185 steps]\tlr 0.0005\ttrain loss 0.8514\ttrain acc 0.0525\n",
            "[21/30 epochs][20/185 steps]\tlr 0.0005\ttrain loss 0.9815\ttrain acc 0.0525\n",
            "[21/30 epochs][30/185 steps]\tlr 0.0005\ttrain loss 0.9415\ttrain acc 0.0525\n",
            "[21/30 epochs][40/185 steps]\tlr 0.0005\ttrain loss 0.9366\ttrain acc 0.0524\n",
            "[21/30 epochs][50/185 steps]\tlr 0.0005\ttrain loss 0.9518\ttrain acc 0.0524\n",
            "[21/30 epochs][60/185 steps]\tlr 0.0005\ttrain loss 0.9623\ttrain acc 0.0524\n",
            "[21/30 epochs][70/185 steps]\tlr 0.0005\ttrain loss 0.7159\ttrain acc 0.0525\n",
            "[21/30 epochs][80/185 steps]\tlr 0.0005\ttrain loss 0.8580\ttrain acc 0.0525\n",
            "[21/30 epochs][90/185 steps]\tlr 0.0005\ttrain loss 0.7543\ttrain acc 0.0525\n",
            "[21/30 epochs][100/185 steps]\tlr 0.0005\ttrain loss 0.9146\ttrain acc 0.0525\n",
            "[21/30 epochs][110/185 steps]\tlr 0.0005\ttrain loss 0.8777\ttrain acc 0.0525\n",
            "[21/30 epochs][120/185 steps]\tlr 0.0005\ttrain loss 0.8731\ttrain acc 0.0525\n",
            "[21/30 epochs][130/185 steps]\tlr 0.0005\ttrain loss 0.9926\ttrain acc 0.0525\n",
            "[21/30 epochs][140/185 steps]\tlr 0.0005\ttrain loss 0.9423\ttrain acc 0.0525\n",
            "[21/30 epochs][150/185 steps]\tlr 0.0005\ttrain loss 0.8218\ttrain acc 0.0525\n",
            "[21/30 epochs][160/185 steps]\tlr 0.0005\ttrain loss 0.7836\ttrain acc 0.0525\n",
            "[21/30 epochs][170/185 steps]\tlr 0.0005\ttrain loss 0.9336\ttrain acc 0.0525\n",
            "[21/30 epochs][180/185 steps]\tlr 0.0005\ttrain loss 0.9749\ttrain acc 0.0525\n",
            "====================================================================================================\n",
            "[22/30 epochs][0/185 steps]\tlr 0.0005\ttrain loss 0.8721\ttrain acc 0.0525\n",
            "[22/30 epochs][10/185 steps]\tlr 0.0005\ttrain loss 0.7665\ttrain acc 0.0525\n",
            "[22/30 epochs][20/185 steps]\tlr 0.0005\ttrain loss 0.8216\ttrain acc 0.0525\n",
            "[22/30 epochs][30/185 steps]\tlr 0.0005\ttrain loss 0.9189\ttrain acc 0.0525\n",
            "[22/30 epochs][40/185 steps]\tlr 0.0005\ttrain loss 0.9579\ttrain acc 0.0525\n",
            "[22/30 epochs][50/185 steps]\tlr 0.0005\ttrain loss 0.8405\ttrain acc 0.0525\n",
            "[22/30 epochs][60/185 steps]\tlr 0.0005\ttrain loss 0.7267\ttrain acc 0.0525\n",
            "[22/30 epochs][70/185 steps]\tlr 0.0005\ttrain loss 0.8569\ttrain acc 0.0525\n",
            "[22/30 epochs][80/185 steps]\tlr 0.0005\ttrain loss 0.8582\ttrain acc 0.0525\n",
            "[22/30 epochs][90/185 steps]\tlr 0.0005\ttrain loss 0.8243\ttrain acc 0.0525\n",
            "[22/30 epochs][100/185 steps]\tlr 0.0005\ttrain loss 0.7899\ttrain acc 0.0525\n",
            "[22/30 epochs][110/185 steps]\tlr 0.0005\ttrain loss 0.8398\ttrain acc 0.0525\n",
            "[22/30 epochs][120/185 steps]\tlr 0.0005\ttrain loss 0.8241\ttrain acc 0.0525\n",
            "[22/30 epochs][130/185 steps]\tlr 0.0005\ttrain loss 0.8823\ttrain acc 0.0525\n",
            "[22/30 epochs][140/185 steps]\tlr 0.0005\ttrain loss 1.0808\ttrain acc 0.0525\n",
            "[22/30 epochs][150/185 steps]\tlr 0.0005\ttrain loss 0.9295\ttrain acc 0.0525\n",
            "[22/30 epochs][160/185 steps]\tlr 0.0005\ttrain loss 0.9724\ttrain acc 0.0525\n",
            "[22/30 epochs][170/185 steps]\tlr 0.0005\ttrain loss 0.9052\ttrain acc 0.0525\n",
            "[22/30 epochs][180/185 steps]\tlr 0.0005\ttrain loss 0.9116\ttrain acc 0.0525\n",
            "====================================================================================================\n",
            "[23/30 epochs][0/185 steps]\tlr 0.0005\ttrain loss 0.8172\ttrain acc 0.0525\n",
            "[23/30 epochs][10/185 steps]\tlr 0.0005\ttrain loss 0.8516\ttrain acc 0.0525\n",
            "[23/30 epochs][20/185 steps]\tlr 0.0005\ttrain loss 0.8975\ttrain acc 0.0525\n",
            "[23/30 epochs][30/185 steps]\tlr 0.0005\ttrain loss 0.8399\ttrain acc 0.0525\n",
            "[23/30 epochs][40/185 steps]\tlr 0.0005\ttrain loss 0.8515\ttrain acc 0.0525\n",
            "[23/30 epochs][50/185 steps]\tlr 0.0005\ttrain loss 0.9220\ttrain acc 0.0525\n",
            "[23/30 epochs][60/185 steps]\tlr 0.0005\ttrain loss 0.9571\ttrain acc 0.0525\n",
            "[23/30 epochs][70/185 steps]\tlr 0.0005\ttrain loss 0.9501\ttrain acc 0.0525\n",
            "[23/30 epochs][80/185 steps]\tlr 0.0005\ttrain loss 0.8658\ttrain acc 0.0525\n",
            "[23/30 epochs][90/185 steps]\tlr 0.0005\ttrain loss 0.7987\ttrain acc 0.0525\n",
            "[23/30 epochs][100/185 steps]\tlr 0.0005\ttrain loss 0.8590\ttrain acc 0.0525\n",
            "[23/30 epochs][110/185 steps]\tlr 0.0005\ttrain loss 0.7781\ttrain acc 0.0525\n",
            "[23/30 epochs][120/185 steps]\tlr 0.0005\ttrain loss 0.7810\ttrain acc 0.0525\n",
            "[23/30 epochs][130/185 steps]\tlr 0.0005\ttrain loss 0.9460\ttrain acc 0.0525\n",
            "[23/30 epochs][140/185 steps]\tlr 0.0005\ttrain loss 1.0213\ttrain acc 0.0525\n",
            "[23/30 epochs][150/185 steps]\tlr 0.0006\ttrain loss 0.8609\ttrain acc 0.0525\n",
            "[23/30 epochs][160/185 steps]\tlr 0.0006\ttrain loss 0.8984\ttrain acc 0.0525\n",
            "[23/30 epochs][170/185 steps]\tlr 0.0006\ttrain loss 0.8418\ttrain acc 0.0525\n",
            "[23/30 epochs][180/185 steps]\tlr 0.0006\ttrain loss 0.8737\ttrain acc 0.0525\n",
            "====================================================================================================\n",
            "[24/30 epochs][0/185 steps]\tlr 0.0006\ttrain loss 0.8619\ttrain acc 0.0526\n",
            "[24/30 epochs][10/185 steps]\tlr 0.0006\ttrain loss 0.8178\ttrain acc 0.0526\n",
            "[24/30 epochs][20/185 steps]\tlr 0.0006\ttrain loss 0.8296\ttrain acc 0.0526\n",
            "[24/30 epochs][30/185 steps]\tlr 0.0006\ttrain loss 0.8349\ttrain acc 0.0526\n",
            "[24/30 epochs][40/185 steps]\tlr 0.0006\ttrain loss 0.7819\ttrain acc 0.0526\n",
            "[24/30 epochs][50/185 steps]\tlr 0.0006\ttrain loss 0.8196\ttrain acc 0.0526\n",
            "[24/30 epochs][60/185 steps]\tlr 0.0006\ttrain loss 0.7648\ttrain acc 0.0526\n",
            "[24/30 epochs][70/185 steps]\tlr 0.0006\ttrain loss 0.9124\ttrain acc 0.0526\n",
            "[24/30 epochs][80/185 steps]\tlr 0.0006\ttrain loss 0.8841\ttrain acc 0.0526\n",
            "[24/30 epochs][90/185 steps]\tlr 0.0006\ttrain loss 0.7746\ttrain acc 0.0526\n",
            "[24/30 epochs][100/185 steps]\tlr 0.0006\ttrain loss 0.8381\ttrain acc 0.0526\n",
            "[24/30 epochs][110/185 steps]\tlr 0.0006\ttrain loss 0.9000\ttrain acc 0.0526\n",
            "[24/30 epochs][120/185 steps]\tlr 0.0006\ttrain loss 0.8717\ttrain acc 0.0526\n",
            "[24/30 epochs][130/185 steps]\tlr 0.0006\ttrain loss 0.7648\ttrain acc 0.0526\n",
            "[24/30 epochs][140/185 steps]\tlr 0.0006\ttrain loss 0.8141\ttrain acc 0.0526\n",
            "[24/30 epochs][150/185 steps]\tlr 0.0006\ttrain loss 0.9145\ttrain acc 0.0526\n",
            "[24/30 epochs][160/185 steps]\tlr 0.0006\ttrain loss 0.8572\ttrain acc 0.0526\n",
            "[24/30 epochs][170/185 steps]\tlr 0.0006\ttrain loss 0.8274\ttrain acc 0.0527\n",
            "[24/30 epochs][180/185 steps]\tlr 0.0006\ttrain loss 0.8778\ttrain acc 0.0527\n",
            "====================================================================================================\n",
            "[25/30 epochs][0/185 steps]\tlr 0.0006\ttrain loss 0.9178\ttrain acc 0.0527\n",
            "[25/30 epochs][10/185 steps]\tlr 0.0006\ttrain loss 0.7280\ttrain acc 0.0527\n",
            "[25/30 epochs][20/185 steps]\tlr 0.0006\ttrain loss 0.8864\ttrain acc 0.0527\n",
            "[25/30 epochs][30/185 steps]\tlr 0.0006\ttrain loss 0.7764\ttrain acc 0.0527\n",
            "[25/30 epochs][40/185 steps]\tlr 0.0006\ttrain loss 0.8734\ttrain acc 0.0527\n",
            "[25/30 epochs][50/185 steps]\tlr 0.0006\ttrain loss 0.7868\ttrain acc 0.0527\n",
            "[25/30 epochs][60/185 steps]\tlr 0.0006\ttrain loss 0.7718\ttrain acc 0.0527\n",
            "[25/30 epochs][70/185 steps]\tlr 0.0006\ttrain loss 0.8855\ttrain acc 0.0527\n",
            "[25/30 epochs][80/185 steps]\tlr 0.0006\ttrain loss 0.7561\ttrain acc 0.0527\n",
            "[25/30 epochs][90/185 steps]\tlr 0.0006\ttrain loss 0.9398\ttrain acc 0.0527\n",
            "[25/30 epochs][100/185 steps]\tlr 0.0006\ttrain loss 0.9499\ttrain acc 0.0527\n",
            "[25/30 epochs][110/185 steps]\tlr 0.0006\ttrain loss 0.8012\ttrain acc 0.0527\n",
            "[25/30 epochs][120/185 steps]\tlr 0.0006\ttrain loss 0.7355\ttrain acc 0.0527\n",
            "[25/30 epochs][130/185 steps]\tlr 0.0006\ttrain loss 0.8925\ttrain acc 0.0527\n",
            "[25/30 epochs][140/185 steps]\tlr 0.0006\ttrain loss 0.7492\ttrain acc 0.0527\n",
            "[25/30 epochs][150/185 steps]\tlr 0.0006\ttrain loss 0.8496\ttrain acc 0.0527\n",
            "[25/30 epochs][160/185 steps]\tlr 0.0006\ttrain loss 0.7601\ttrain acc 0.0527\n",
            "[25/30 epochs][170/185 steps]\tlr 0.0006\ttrain loss 0.7715\ttrain acc 0.0527\n",
            "[25/30 epochs][180/185 steps]\tlr 0.0006\ttrain loss 0.9769\ttrain acc 0.0527\n",
            "====================================================================================================\n",
            "[26/30 epochs][0/185 steps]\tlr 0.0006\ttrain loss 0.9196\ttrain acc 0.0527\n",
            "[26/30 epochs][10/185 steps]\tlr 0.0006\ttrain loss 0.8470\ttrain acc 0.0527\n",
            "[26/30 epochs][20/185 steps]\tlr 0.0006\ttrain loss 0.7199\ttrain acc 0.0527\n",
            "[26/30 epochs][30/185 steps]\tlr 0.0006\ttrain loss 0.7410\ttrain acc 0.0527\n",
            "[26/30 epochs][40/185 steps]\tlr 0.0006\ttrain loss 0.7833\ttrain acc 0.0528\n",
            "[26/30 epochs][50/185 steps]\tlr 0.0006\ttrain loss 0.9127\ttrain acc 0.0528\n",
            "[26/30 epochs][60/185 steps]\tlr 0.0006\ttrain loss 0.7831\ttrain acc 0.0528\n",
            "[26/30 epochs][70/185 steps]\tlr 0.0006\ttrain loss 0.7590\ttrain acc 0.0528\n",
            "[26/30 epochs][80/185 steps]\tlr 0.0006\ttrain loss 0.7293\ttrain acc 0.0528\n",
            "[26/30 epochs][90/185 steps]\tlr 0.0006\ttrain loss 0.8590\ttrain acc 0.0528\n",
            "[26/30 epochs][100/185 steps]\tlr 0.0006\ttrain loss 0.8087\ttrain acc 0.0528\n",
            "[26/30 epochs][110/185 steps]\tlr 0.0006\ttrain loss 0.8123\ttrain acc 0.0528\n",
            "[26/30 epochs][120/185 steps]\tlr 0.0006\ttrain loss 0.8005\ttrain acc 0.0528\n",
            "[26/30 epochs][130/185 steps]\tlr 0.0006\ttrain loss 0.8730\ttrain acc 0.0528\n",
            "[26/30 epochs][140/185 steps]\tlr 0.0006\ttrain loss 0.8614\ttrain acc 0.0528\n",
            "[26/30 epochs][150/185 steps]\tlr 0.0006\ttrain loss 0.7345\ttrain acc 0.0528\n",
            "[26/30 epochs][160/185 steps]\tlr 0.0006\ttrain loss 0.8324\ttrain acc 0.0528\n",
            "[26/30 epochs][170/185 steps]\tlr 0.0006\ttrain loss 0.7995\ttrain acc 0.0528\n",
            "[26/30 epochs][180/185 steps]\tlr 0.0006\ttrain loss 0.8522\ttrain acc 0.0528\n",
            "====================================================================================================\n",
            "[27/30 epochs][0/185 steps]\tlr 0.0006\ttrain loss 0.7700\ttrain acc 0.0528\n",
            "[27/30 epochs][10/185 steps]\tlr 0.0006\ttrain loss 0.7850\ttrain acc 0.0529\n",
            "[27/30 epochs][20/185 steps]\tlr 0.0006\ttrain loss 0.8671\ttrain acc 0.0529\n",
            "[27/30 epochs][30/185 steps]\tlr 0.0006\ttrain loss 0.8971\ttrain acc 0.0529\n",
            "[27/30 epochs][40/185 steps]\tlr 0.0006\ttrain loss 0.8238\ttrain acc 0.0529\n",
            "[27/30 epochs][50/185 steps]\tlr 0.0006\ttrain loss 0.7131\ttrain acc 0.0529\n",
            "[27/30 epochs][60/185 steps]\tlr 0.0006\ttrain loss 0.8725\ttrain acc 0.0529\n",
            "[27/30 epochs][70/185 steps]\tlr 0.0006\ttrain loss 0.8451\ttrain acc 0.0529\n",
            "[27/30 epochs][80/185 steps]\tlr 0.0006\ttrain loss 0.8853\ttrain acc 0.0529\n",
            "[27/30 epochs][90/185 steps]\tlr 0.0006\ttrain loss 0.7365\ttrain acc 0.0529\n",
            "[27/30 epochs][100/185 steps]\tlr 0.0006\ttrain loss 0.6164\ttrain acc 0.0529\n",
            "[27/30 epochs][110/185 steps]\tlr 0.0006\ttrain loss 0.9155\ttrain acc 0.0529\n",
            "[27/30 epochs][120/185 steps]\tlr 0.0006\ttrain loss 0.7593\ttrain acc 0.0529\n",
            "[27/30 epochs][130/185 steps]\tlr 0.0006\ttrain loss 0.8636\ttrain acc 0.0529\n",
            "[27/30 epochs][140/185 steps]\tlr 0.0006\ttrain loss 0.7619\ttrain acc 0.0529\n",
            "[27/30 epochs][150/185 steps]\tlr 0.0006\ttrain loss 0.8016\ttrain acc 0.0529\n",
            "[27/30 epochs][160/185 steps]\tlr 0.0006\ttrain loss 0.7623\ttrain acc 0.0529\n",
            "[27/30 epochs][170/185 steps]\tlr 0.0006\ttrain loss 0.8562\ttrain acc 0.0530\n",
            "[27/30 epochs][180/185 steps]\tlr 0.0006\ttrain loss 0.8091\ttrain acc 0.0530\n",
            "====================================================================================================\n",
            "[28/30 epochs][0/185 steps]\tlr 0.0006\ttrain loss 0.7187\ttrain acc 0.0530\n",
            "[28/30 epochs][10/185 steps]\tlr 0.0006\ttrain loss 0.7784\ttrain acc 0.0530\n",
            "[28/30 epochs][20/185 steps]\tlr 0.0006\ttrain loss 0.7344\ttrain acc 0.0530\n",
            "[28/30 epochs][30/185 steps]\tlr 0.0006\ttrain loss 0.7941\ttrain acc 0.0530\n",
            "[28/30 epochs][40/185 steps]\tlr 0.0006\ttrain loss 0.8280\ttrain acc 0.0530\n",
            "[28/30 epochs][50/185 steps]\tlr 0.0006\ttrain loss 0.7803\ttrain acc 0.0530\n",
            "[28/30 epochs][60/185 steps]\tlr 0.0006\ttrain loss 0.8284\ttrain acc 0.0530\n",
            "[28/30 epochs][70/185 steps]\tlr 0.0006\ttrain loss 0.9145\ttrain acc 0.0530\n",
            "[28/30 epochs][80/185 steps]\tlr 0.0006\ttrain loss 0.8605\ttrain acc 0.0530\n",
            "[28/30 epochs][90/185 steps]\tlr 0.0006\ttrain loss 0.9210\ttrain acc 0.0530\n",
            "[28/30 epochs][100/185 steps]\tlr 0.0006\ttrain loss 0.7682\ttrain acc 0.0531\n",
            "[28/30 epochs][110/185 steps]\tlr 0.0006\ttrain loss 0.8100\ttrain acc 0.0531\n",
            "[28/30 epochs][120/185 steps]\tlr 0.0006\ttrain loss 0.8059\ttrain acc 0.0531\n",
            "[28/30 epochs][130/185 steps]\tlr 0.0006\ttrain loss 0.8204\ttrain acc 0.0531\n",
            "[28/30 epochs][140/185 steps]\tlr 0.0006\ttrain loss 0.8400\ttrain acc 0.0531\n",
            "[28/30 epochs][150/185 steps]\tlr 0.0006\ttrain loss 0.8179\ttrain acc 0.0531\n",
            "[28/30 epochs][160/185 steps]\tlr 0.0006\ttrain loss 0.8252\ttrain acc 0.0531\n",
            "[28/30 epochs][170/185 steps]\tlr 0.0006\ttrain loss 0.8501\ttrain acc 0.0531\n",
            "[28/30 epochs][180/185 steps]\tlr 0.0006\ttrain loss 0.7317\ttrain acc 0.0531\n",
            "====================================================================================================\n",
            "[29/30 epochs][0/185 steps]\tlr 0.0006\ttrain loss 0.7953\ttrain acc 0.0531\n",
            "[29/30 epochs][10/185 steps]\tlr 0.0006\ttrain loss 0.7332\ttrain acc 0.0532\n",
            "[29/30 epochs][20/185 steps]\tlr 0.0006\ttrain loss 0.8572\ttrain acc 0.0532\n",
            "[29/30 epochs][30/185 steps]\tlr 0.0006\ttrain loss 0.7809\ttrain acc 0.0532\n",
            "[29/30 epochs][40/185 steps]\tlr 0.0006\ttrain loss 0.7878\ttrain acc 0.0532\n",
            "[29/30 epochs][50/185 steps]\tlr 0.0006\ttrain loss 0.7774\ttrain acc 0.0532\n",
            "[29/30 epochs][60/185 steps]\tlr 0.0006\ttrain loss 0.7832\ttrain acc 0.0532\n",
            "[29/30 epochs][70/185 steps]\tlr 0.0006\ttrain loss 0.7511\ttrain acc 0.0532\n",
            "[29/30 epochs][80/185 steps]\tlr 0.0006\ttrain loss 0.8590\ttrain acc 0.0532\n",
            "[29/30 epochs][90/185 steps]\tlr 0.0006\ttrain loss 0.7212\ttrain acc 0.0533\n",
            "[29/30 epochs][100/185 steps]\tlr 0.0006\ttrain loss 0.7598\ttrain acc 0.0533\n",
            "[29/30 epochs][110/185 steps]\tlr 0.0006\ttrain loss 0.7753\ttrain acc 0.0533\n",
            "[29/30 epochs][120/185 steps]\tlr 0.0006\ttrain loss 0.8386\ttrain acc 0.0533\n",
            "[29/30 epochs][130/185 steps]\tlr 0.0006\ttrain loss 0.7395\ttrain acc 0.0533\n",
            "[29/30 epochs][140/185 steps]\tlr 0.0006\ttrain loss 0.7181\ttrain acc 0.0533\n",
            "[29/30 epochs][150/185 steps]\tlr 0.0006\ttrain loss 0.8404\ttrain acc 0.0533\n",
            "[29/30 epochs][160/185 steps]\tlr 0.0006\ttrain loss 0.7654\ttrain acc 0.0533\n",
            "[29/30 epochs][170/185 steps]\tlr 0.0006\ttrain loss 0.7660\ttrain acc 0.0534\n",
            "[29/30 epochs][180/185 steps]\tlr 0.0006\ttrain loss 0.7701\ttrain acc 0.0534\n",
            "====================================================================================================\n"
          ]
        }
      ]
    },
    {
      "cell_type": "code",
      "source": [],
      "metadata": {
        "id": "R_jHggjiqIzz"
      },
      "execution_count": null,
      "outputs": []
    }
  ]
}